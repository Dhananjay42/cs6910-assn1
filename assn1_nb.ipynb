{
  "cells": [
    {
      "cell_type": "markdown",
      "source": [
        "#CS6910 Assignment-1\n",
        "- Submitted by Dhananjay Balakrishnan, ME19B012"
      ],
      "metadata": {
        "id": "xNzByCLwwyyD"
      }
    },
    {
      "cell_type": "markdown",
      "metadata": {
        "id": "yiKvugOBNN2A"
      },
      "source": [
        "#Question 1: Loading and Visualizing the Fashion_MNIST Dataset"
      ]
    },
    {
      "cell_type": "code",
      "execution_count": 1,
      "metadata": {
        "colab": {
          "base_uri": "https://localhost:8080/"
        },
        "id": "oNYuwu6mPbQX",
        "outputId": "5e0f270d-921a-4342-a5db-7d309f36eacf"
      },
      "outputs": [
        {
          "output_type": "stream",
          "name": "stdout",
          "text": [
            "Looking in indexes: https://pypi.org/simple, https://us-python.pkg.dev/colab-wheels/public/simple/\n",
            "Requirement already satisfied: wandb in /usr/local/lib/python3.9/dist-packages (0.14.0)\n",
            "Requirement already satisfied: sentry-sdk>=1.0.0 in /usr/local/lib/python3.9/dist-packages (from wandb) (1.17.0)\n",
            "Requirement already satisfied: Click!=8.0.0,>=7.0 in /usr/local/lib/python3.9/dist-packages (from wandb) (8.1.3)\n",
            "Requirement already satisfied: typing-extensions in /usr/local/lib/python3.9/dist-packages (from wandb) (4.5.0)\n",
            "Requirement already satisfied: GitPython!=3.1.29,>=1.0.0 in /usr/local/lib/python3.9/dist-packages (from wandb) (3.1.31)\n",
            "Requirement already satisfied: appdirs>=1.4.3 in /usr/local/lib/python3.9/dist-packages (from wandb) (1.4.4)\n",
            "Requirement already satisfied: PyYAML in /usr/local/lib/python3.9/dist-packages (from wandb) (6.0)\n",
            "Requirement already satisfied: pathtools in /usr/local/lib/python3.9/dist-packages (from wandb) (0.1.2)\n",
            "Requirement already satisfied: setuptools in /usr/local/lib/python3.9/dist-packages (from wandb) (63.4.3)\n",
            "Requirement already satisfied: setproctitle in /usr/local/lib/python3.9/dist-packages (from wandb) (1.3.2)\n",
            "Requirement already satisfied: docker-pycreds>=0.4.0 in /usr/local/lib/python3.9/dist-packages (from wandb) (0.4.0)\n",
            "Requirement already satisfied: requests<3,>=2.0.0 in /usr/local/lib/python3.9/dist-packages (from wandb) (2.27.1)\n",
            "Requirement already satisfied: protobuf!=4.21.0,<5,>=3.15.0 in /usr/local/lib/python3.9/dist-packages (from wandb) (3.19.6)\n",
            "Requirement already satisfied: psutil>=5.0.0 in /usr/local/lib/python3.9/dist-packages (from wandb) (5.9.4)\n",
            "Requirement already satisfied: six>=1.4.0 in /usr/local/lib/python3.9/dist-packages (from docker-pycreds>=0.4.0->wandb) (1.15.0)\n",
            "Requirement already satisfied: gitdb<5,>=4.0.1 in /usr/local/lib/python3.9/dist-packages (from GitPython!=3.1.29,>=1.0.0->wandb) (4.0.10)\n",
            "Requirement already satisfied: urllib3<1.27,>=1.21.1 in /usr/local/lib/python3.9/dist-packages (from requests<3,>=2.0.0->wandb) (1.26.15)\n",
            "Requirement already satisfied: idna<4,>=2.5 in /usr/local/lib/python3.9/dist-packages (from requests<3,>=2.0.0->wandb) (3.4)\n",
            "Requirement already satisfied: certifi>=2017.4.17 in /usr/local/lib/python3.9/dist-packages (from requests<3,>=2.0.0->wandb) (2022.12.7)\n",
            "Requirement already satisfied: charset-normalizer~=2.0.0 in /usr/local/lib/python3.9/dist-packages (from requests<3,>=2.0.0->wandb) (2.0.12)\n",
            "Requirement already satisfied: smmap<6,>=3.0.1 in /usr/local/lib/python3.9/dist-packages (from gitdb<5,>=4.0.1->GitPython!=3.1.29,>=1.0.0->wandb) (5.0.0)\n"
          ]
        }
      ],
      "source": [
        "!pip install wandb"
      ]
    },
    {
      "cell_type": "code",
      "execution_count": 2,
      "metadata": {
        "id": "k9Z5M3aMPc_W"
      },
      "outputs": [],
      "source": [
        "import wandb"
      ]
    },
    {
      "cell_type": "code",
      "execution_count": 3,
      "metadata": {
        "colab": {
          "base_uri": "https://localhost:8080/"
        },
        "id": "Z2aWVYB9P0GV",
        "outputId": "5f498137-a84a-4d28-b2b6-becaa8e66056"
      },
      "outputs": [
        {
          "output_type": "stream",
          "name": "stdout",
          "text": [
            "\u001b[34m\u001b[1mwandb\u001b[0m: Currently logged in as: \u001b[33mdhananjayb\u001b[0m (\u001b[33mclroymustang\u001b[0m). Use \u001b[1m`wandb login --relogin`\u001b[0m to force relogin\n"
          ]
        }
      ],
      "source": [
        "!wandb login"
      ]
    },
    {
      "cell_type": "code",
      "execution_count": 4,
      "metadata": {
        "id": "nQffrDIzREWE"
      },
      "outputs": [],
      "source": [
        "entity_name = \"clroymustang\"\n",
        "project_name = \"cs6910-assignment-1\""
      ]
    },
    {
      "cell_type": "code",
      "execution_count": 5,
      "metadata": {
        "id": "ooU2360gS9v6"
      },
      "outputs": [],
      "source": [
        "labels_fashion_mnist = ['T-shirt/top','Trouser','Pullover','Dress','Coat','Sandal','Shirt','Sneaker','Bag','Ankle boot']"
      ]
    },
    {
      "cell_type": "code",
      "execution_count": 6,
      "metadata": {
        "id": "eWjp59McNQIb"
      },
      "outputs": [],
      "source": [
        "import numpy as np\n",
        "import cv2\n",
        "import matplotlib.pyplot as plt\n",
        "from keras.datasets import fashion_mnist"
      ]
    },
    {
      "cell_type": "code",
      "execution_count": 7,
      "metadata": {
        "id": "pUdLn0nYNjpI"
      },
      "outputs": [],
      "source": [
        "(trainX, trainy), (testX, testy) = fashion_mnist.load_data()"
      ]
    },
    {
      "cell_type": "code",
      "execution_count": null,
      "metadata": {
        "id": "9AmG22wrNpAH",
        "colab": {
          "base_uri": "https://localhost:8080/",
          "height": 237,
          "referenced_widgets": [
            "5cc52f653c2c46bca35e96bb90dc5664",
            "e317120848e4402db670d2392aca0b26",
            "262d3d516fa74d5bb912ca0e929e9ca1",
            "b208cb5e3476444dbe1373a913662725",
            "22fb376b8b1843d0bd4b9ae7d19800b0",
            "ea3e1a61f5964d709647bb4b24141e0f",
            "2ac7b8e9b51548a69edb9892b806f56a",
            "b9ad0d0361c94d0393472166ed355863"
          ]
        },
        "outputId": "5744f628-7ef3-468e-b13b-a4fe29b82df7"
      },
      "outputs": [
        {
          "output_type": "display_data",
          "data": {
            "text/plain": [
              "<IPython.core.display.HTML object>"
            ],
            "text/html": [
              "Tracking run with wandb version 0.14.0"
            ]
          },
          "metadata": {}
        },
        {
          "output_type": "display_data",
          "data": {
            "text/plain": [
              "<IPython.core.display.HTML object>"
            ],
            "text/html": [
              "Run data is saved locally in <code>/content/wandb/run-20230319_193226-0qw7idh8</code>"
            ]
          },
          "metadata": {}
        },
        {
          "output_type": "display_data",
          "data": {
            "text/plain": [
              "<IPython.core.display.HTML object>"
            ],
            "text/html": [
              "Syncing run <strong><a href='https://wandb.ai/clroymustang/cs6910-assignment-1/runs/0qw7idh8' target=\"_blank\">q1_run_again</a></strong> to <a href='https://wandb.ai/clroymustang/cs6910-assignment-1' target=\"_blank\">Weights & Biases</a> (<a href='https://wandb.me/run' target=\"_blank\">docs</a>)<br/>"
            ]
          },
          "metadata": {}
        },
        {
          "output_type": "display_data",
          "data": {
            "text/plain": [
              "<IPython.core.display.HTML object>"
            ],
            "text/html": [
              " View project at <a href='https://wandb.ai/clroymustang/cs6910-assignment-1' target=\"_blank\">https://wandb.ai/clroymustang/cs6910-assignment-1</a>"
            ]
          },
          "metadata": {}
        },
        {
          "output_type": "display_data",
          "data": {
            "text/plain": [
              "<IPython.core.display.HTML object>"
            ],
            "text/html": [
              " View run at <a href='https://wandb.ai/clroymustang/cs6910-assignment-1/runs/0qw7idh8' target=\"_blank\">https://wandb.ai/clroymustang/cs6910-assignment-1/runs/0qw7idh8</a>"
            ]
          },
          "metadata": {}
        },
        {
          "output_type": "display_data",
          "data": {
            "text/plain": [
              "<IPython.core.display.HTML object>"
            ],
            "text/html": [
              "Waiting for W&B process to finish... <strong style=\"color:green\">(success).</strong>"
            ]
          },
          "metadata": {}
        },
        {
          "output_type": "display_data",
          "data": {
            "text/plain": [
              "VBox(children=(Label(value='0.012 MB of 0.014 MB uploaded (0.000 MB deduped)\\r'), FloatProgress(value=0.869614…"
            ],
            "application/vnd.jupyter.widget-view+json": {
              "version_major": 2,
              "version_minor": 0,
              "model_id": "5cc52f653c2c46bca35e96bb90dc5664"
            }
          },
          "metadata": {}
        },
        {
          "output_type": "display_data",
          "data": {
            "text/plain": [
              "<IPython.core.display.HTML object>"
            ],
            "text/html": [
              " View run <strong style=\"color:#cdcd00\">q1_run_again</strong> at: <a href='https://wandb.ai/clroymustang/cs6910-assignment-1/runs/0qw7idh8' target=\"_blank\">https://wandb.ai/clroymustang/cs6910-assignment-1/runs/0qw7idh8</a><br/>Synced 4 W&B file(s), 10 media file(s), 0 artifact file(s) and 0 other file(s)"
            ]
          },
          "metadata": {}
        },
        {
          "output_type": "display_data",
          "data": {
            "text/plain": [
              "<IPython.core.display.HTML object>"
            ],
            "text/html": [
              "Find logs at: <code>./wandb/run-20230319_193226-0qw7idh8/logs</code>"
            ]
          },
          "metadata": {}
        }
      ],
      "source": [
        "wandb.init(entity=entity_name,project=project_name, name=\"q1_run_again\")\n",
        "completed_labels = []\n",
        "images = []\n",
        "\n",
        "for (image, label) in zip(trainX, trainy):\n",
        "  if len(completed_labels) == 10:\n",
        "    break\n",
        "\n",
        "  if label in completed_labels:\n",
        "    continue\n",
        "  else:\n",
        "    completed_labels.append(label)\n",
        "    images.append(wandb.Image(image, caption = labels_fashion_mnist[label]))\n",
        "\n",
        "wandb.log({\"sample_images\":images})\n",
        "wandb.finish()"
      ]
    },
    {
      "cell_type": "markdown",
      "metadata": {
        "id": "w-L0CPLYM7Oh"
      },
      "source": [
        "#Questions 2 and 3: The Neural Network and the training loop"
      ]
    },
    {
      "cell_type": "code",
      "execution_count": 8,
      "metadata": {
        "id": "glPvh9naA-GM"
      },
      "outputs": [],
      "source": [
        "import numpy as np\n",
        "from sklearn.metrics import accuracy_score\n",
        "import cv2\n",
        "import copy \n",
        "\n",
        "class NeuralNetwork:\n",
        "    def __init__(self, n_hidden = 3, hl_size = 128, batch_size = 32, weight_init = 'Xavier', activation_fn = 'tanh', \\\n",
        "                 optimizer = 'nadam', lr = 0.001, n_input = 28*28, n_output = 10, loss_type = 'cross_entropy', lamda = 0.0005, \\\n",
        "                 m_factor = 0.9, beta = 0.9, epsilon = 0.000001, beta1 = 0.9, beta2 = 0.99):\n",
        "        self.n_hidden = n_hidden #number of hidden layers\n",
        "        self.hl_size = hl_size #size of each hidden layer\n",
        "        self.batch_size = batch_size \n",
        "        self.activation_fn = activation_fn\n",
        "        self.lr = lr\n",
        "        self.weight_init = weight_init\n",
        "        self.n_input = n_input\n",
        "        self.n_output = n_output\n",
        "        self.optimizer = optimizer\n",
        "        self.loss_type = loss_type\n",
        "        self.lamda = lamda\n",
        "        self.m_factor = m_factor\n",
        "        self.beta = beta\n",
        "        self.epsilon = epsilon\n",
        "        self.beta1 = beta1\n",
        "        self.beta2 = beta2\n",
        "        #self.long_wandb = log_wandb\n",
        "\n",
        "        self.weights = []\n",
        "        self.biases = []\n",
        "        \n",
        "        self.a_list = []\n",
        "        self.h_list = []\n",
        "        self.weight_gradients = []\n",
        "        self.bias_gradients = []\n",
        "        self.weight_updates = []\n",
        "        self.bias_updates = []\n",
        "        self.loss = 0\n",
        "\n",
        "        self.weight_history = []\n",
        "        self.bias_history = []\n",
        "        self.rmsprop_weight = []\n",
        "        self.rmsprop_bias = []\n",
        "\n",
        "        self.adam_weight = []\n",
        "        self.adam_bias = []\n",
        "        self.adam_iter = 1\n",
        "\n",
        "        self.layer_sizes = [n_input]\n",
        "        for i in range(n_hidden):\n",
        "          self.layer_sizes.append(hl_size)\n",
        "        self.layer_sizes.append(n_output)\n",
        "        self.init_weights()\n",
        "\n",
        "    def init_weights(self):\n",
        "        if self.weight_init == 'Xavier':\n",
        "          for i in range(0,len(self.layer_sizes)-1):\n",
        "            a = np.sqrt(6/(self.layer_sizes[i] + self.layer_sizes[i+1]))\n",
        "            w_arr = np.random.uniform(low = -a, high = a, size = (self.layer_sizes[i], self.layer_sizes[i+1]))\n",
        "            self.weights.append(w_arr)\n",
        "            b_arr = np.zeros((self.layer_sizes[i+1], 1))\n",
        "            self.biases.append(b_arr)\n",
        "        \n",
        "        elif self.weight_init == 'random':\n",
        "          for i in range(0,len(self.layer_sizes)-1):\n",
        "            w_arr = 0.01*np.random.randn(self.layer_sizes[i], self.layer_sizes[i+1])\n",
        "            self.weights.append(w_arr)\n",
        "            b_arr = 0.01*np.random.randn(self.layer_sizes[i+1], 1)\n",
        "            self.biases.append(b_arr)\n",
        "\n",
        "        else:\n",
        "            print('Choose correct initialization.')\n",
        "            quit()\n",
        "    \n",
        "    def activation(self, a):\n",
        "        if self.activation_fn == 'sigmoid':\n",
        "          return (1.0/(1.0+np.exp(-a)))\n",
        "        elif self.activation_fn == 'tanh':\n",
        "          return np.tanh(a)\n",
        "        elif self.activation_fn == 'identity':\n",
        "          return a\n",
        "        else:\n",
        "          return np.maximum(0,a)\n",
        "    \n",
        "    def calculate_grad(self, a):\n",
        "        if self.activation_fn == 'sigmoid':\n",
        "            return self.activation(a)*(1-self.activation(a))\n",
        "        elif self.activation_fn == 'tanh':\n",
        "            return 1.0 - self.activation(a)**2\n",
        "        elif self.activation_fn == 'identity':\n",
        "            return 1\n",
        "        else:\n",
        "            return 1*(a > 0)\n",
        "    \n",
        "    def softmax_grad(self, a):\n",
        "      return self.softmax(a)*(1-self.softmax(a))\n",
        "    \n",
        "    def loss_fn(self, predicted, labels):\n",
        "      error = 0\n",
        "      if self.loss_type == 'cross_entropy':\n",
        "        #labels are one-hot encoded.\n",
        "        error = error - np.log(predicted[np.argmax(labels)])\n",
        "        error = error[0]\n",
        "      else:\n",
        "        error = error + 0.5*np.mean((predicted - labels)**2)\n",
        "      \n",
        "      \n",
        "      for i in range(0, len(self.weights)):\n",
        "        reg_error = np.sum(self.weights[i]*self.weights[i])\n",
        "        error = error + self.lamda*reg_error\n",
        "      \n",
        "      \n",
        "      return error\n",
        "\n",
        "    def softmax(self, output):\n",
        "        out = [np.exp(x) for x in output]\n",
        "        out = out/np.sum((out))\n",
        "        return out\n",
        "      \n",
        "    def feedforward(self, x):\n",
        "        self.activated_layers = []\n",
        "        output = copy.deepcopy(x)\n",
        "        \n",
        "        self.a_list = [output]\n",
        "        self.h_list = [output]\n",
        "\n",
        "        for i in range(0, self.n_hidden):\n",
        "            output = np.transpose(self.weights[i])@output.reshape(-1,1) + self.biases[i]\n",
        "            self.a_list.append(output)\n",
        "            output = self.activation(output)\n",
        "            self.h_list.append(output)\n",
        "        \n",
        "        output = np.transpose(self.weights[-1])@output + self.biases[-1]\n",
        "        output = self.softmax(output)\n",
        "        return output\n",
        "    \n",
        "    def backprop(self, y_pred, y_true):\n",
        "        self.weight_gradients = []\n",
        "        self.bias_gradients = []\n",
        "\n",
        "        if self.loss_fn == 'cross_entropy':\n",
        "          grad_a = y_pred - y_true.reshape(-1, 1) \n",
        "        else:\n",
        "          grad_a = np.multiply(y_pred - y_true.reshape(-1, 1), 1 - y_pred**2)\n",
        "        #dimensions: (n_out x 1)\n",
        "        for i in range(1,self.n_hidden + 2):\n",
        "          grad_w = np.dot(self.h_list[-i].reshape(-1,1), np.transpose(grad_a))\n",
        "          grad_b = copy.deepcopy(grad_a)\n",
        "          self.weight_gradients.append(grad_w)\n",
        "          self.bias_gradients.append(grad_b)\n",
        "          grad_h_prev = np.dot(self.weights[-i], grad_a)\n",
        "          derivative = self.calculate_grad(self.a_list[-i])\n",
        "          grad_a = np.multiply(grad_h_prev, derivative)\n",
        "\n",
        "        self.weight_gradients.reverse()\n",
        "        self.bias_gradients.reverse()\n",
        "    \n",
        "    def batchwise_gradient(self, X, y, look_forward = False):\n",
        "      self.weight_updates = []\n",
        "      self.bias_updates = []\n",
        "      for i in range(0, len(X)):\n",
        "        y_pred = self.feedforward(X[i])\n",
        "        self.backprop(y_pred, y[i])\n",
        "        if look_forward == False:\n",
        "          if self.loss_type=='cross_entropy':\n",
        "            self.loss = self.loss + self.loss_fn(y_pred, y[i].reshape(-1, 1))\n",
        "          else:\n",
        "            self.loss = self.loss + self.loss_fn(y_pred, y[i])\n",
        "        if i==0:\n",
        "          self.weight_updates = copy.deepcopy(self.weight_gradients)\n",
        "          self.bias_updates = copy.deepcopy(self.bias_gradients)\n",
        "        else:\n",
        "          for i in range(0, len(self.weight_gradients)):\n",
        "            self.weight_updates[i] = self.weight_updates[i] + self.weight_gradients[i]\n",
        "            self.bias_updates[i] = self.bias_updates[i] + self.bias_gradients[i]\n",
        "      \n",
        "    def step(self, X, y):\n",
        "      self.batchwise_gradient(X, y)\n",
        "      reg_factor = (1 - ((self.lr*self.lamda)/self.batch_size))\n",
        "      if self.optimizer == 'sgd':\n",
        "        for i in range(0, len(self.weights)):\n",
        "          self.weights[i] = reg_factor*self.weights[i] - self.lr*self.weight_updates[i]\n",
        "          self.biases[i] = self.biases[i] - self.lr*self.bias_updates[i]\n",
        "      \n",
        "      elif self.optimizer == 'momentum':\n",
        "        if len(self.weight_history) == 0:\n",
        "          self.weight_history = copy.deepcopy(self.weight_updates)\n",
        "          self.bias_history = copy.deepcopy(self.bias_updates)\n",
        "        else:\n",
        "          for i in range(0, len(self.weight_history)):\n",
        "            self.weight_history[i] = self.m_factor*self.weight_history[i] + self.weight_updates[i]\n",
        "            self.bias_history[i] = self.m_factor*self.bias_history[i] + self.bias_updates[i]\n",
        "        \n",
        "        for i in range(0, len(self.weights)):\n",
        "          self.weights[i] = reg_factor*self.weights[i] - self.lr*self.weight_history[i]\n",
        "          self.biases[i] = self.biases[i] - self.lr*self.bias_history[i]\n",
        "\n",
        "      elif self.optimizer == 'nesterov':\n",
        "        temp_weights = copy.deepcopy(self.weights)\n",
        "        temp_biases = copy.deepcopy(self.biases)\n",
        "        \n",
        "        if len(self.weight_history) == 0:\n",
        "          self.weight_history = [self.lr*weight for weight in self.weight_updates]\n",
        "          self.bias_history = [self.lr*bias for bias in self.bias_updates]\n",
        "        else:\n",
        "          for i in range(0, len(self.weight_history)):\n",
        "            self.weights[i] = self.weights[i] - self.m_factor*self.weight_history[i]\n",
        "            self.biases[i] = self.biases[i] - self.m_factor*self.bias_history[i]\n",
        "\n",
        "          self.batchwise_gradient(X, y, look_forward = True)\n",
        "\n",
        "          for i in range(0, len(self.weight_history)):\n",
        "            self.weight_history[i] = self.m_factor*self.weight_history[i] + self.lr*self.weight_updates[i]\n",
        "            self.bias_history[i] = self.m_factor*self.bias_history[i] + self.lr*self.bias_updates[i]\n",
        "        \n",
        "          self.weights = copy.deepcopy(temp_weights)\n",
        "          self.biases = copy.deepcopy(temp_biases)\n",
        "        \n",
        "        for i in range(0, len(self.weights)):\n",
        "          self.weights[i] = reg_factor*self.weights[i] - self.weight_history[i]\n",
        "          self.biases[i] = self.biases[i] - self.bias_history[i]\n",
        "      \n",
        "      elif self.optimizer == 'rmsprop':\n",
        "        if len(self.rmsprop_weight) == 0:\n",
        "          self.rmsprop_weight = [grad**2 for grad in self.weight_updates]\n",
        "          self.rmsprop_bias = [grad**2 for grad in self.bias_updates]\n",
        "        else:\n",
        "          for i in range(0, len(self.rmsprop_weight)):\n",
        "            self.rmsprop_weight[i] = self.beta*self.rmsprop_weight[i] + (1-self.beta)*self.weight_updates[i]**2\n",
        "            self.rmsprop_bias[i] = self.beta*self.rmsprop_bias[i] + (1-self.beta)*self.bias_updates[i]**2\n",
        "        \n",
        "        for i in range(0, len(self.weights)):\n",
        "          self.weights[i] = reg_factor*self.weights[i] - self.lr*(self.weight_updates[i]/(np.sqrt(self.rmsprop_weight[i] + self.epsilon)))\n",
        "          self.biases[i] = self.biases[i] - self.lr*(self.bias_updates[i]/(np.sqrt(self.rmsprop_bias[i] + self.epsilon)))\n",
        "      \n",
        "      elif self.optimizer == 'adam':\n",
        "        if len(self.weight_history) == 0:\n",
        "          self.weight_history = [(1-self.beta1)*grad for grad in self.weight_updates]\n",
        "          self.bias_history = [(1-self.beta1)*grad for grad in self.bias_updates]\n",
        "          self.adam_weight = [(1-self.beta2)*grad**2 for grad in self.weight_updates]\n",
        "          self.adam_bias = [(1-self.beta2)*grad**2 for grad in self.bias_updates]\n",
        "        else:\n",
        "          for i in range(0, len(self.adam_weight)):\n",
        "            self.weight_history[i] = self.beta1*self.weight_history[i] + (1 - self.beta1)*self.weight_updates[i]\n",
        "            self.bias_history[i] = self.beta1*self.bias_history[i] + (1 - self.beta1)*self.bias_updates[i]\n",
        "            self.adam_weight[i] = self.beta2*self.adam_weight[i] + (1 - self.beta2)*self.weight_updates[i]**2\n",
        "            self.adam_bias[i] =  self.beta2*self.adam_bias[i] + (1 - self.beta2)*self.bias_updates[i]**2\n",
        "        \n",
        "        self.adam_grad_weight = [grad/(1-((self.beta1)**self.adam_iter)) for grad in self.weight_history]\n",
        "        self.adam_grad_bias = [grad/(1-((self.beta1)**self.adam_iter)) for grad in self.bias_history]\n",
        "\n",
        "        self.adam_lr_weight = [update/(1-((self.beta2)**self.adam_iter)) for update in self.adam_weight]\n",
        "        self.adam_lr_bias = [update/(1-((self.beta2)**self.adam_iter)) for update in self.adam_bias]\n",
        "\n",
        "        for i in range(0, len(self.weights)):\n",
        "          self.weights[i] = reg_factor*self.weights[i] - self.lr*(self.adam_grad_weight[i]/(np.sqrt(self.adam_lr_weight[i] + self.epsilon)))\n",
        "          self.biases[i] = self.biases[i] - self.lr*(self.adam_grad_bias[i]/(np.sqrt(self.adam_lr_bias[i] + self.epsilon)))\n",
        "        \n",
        "        self.adam_iter = self.adam_iter + 1\n",
        "      \n",
        "      elif self.optimizer == 'nadam':\n",
        "        if len(self.weight_history) == 0:\n",
        "          self.weight_history = [(1-self.beta1)*grad for grad in self.weight_updates]\n",
        "          self.bias_history = [(1-self.beta1)*grad for grad in self.bias_updates]\n",
        "          self.adam_weight = [(1-self.beta2)*grad**2 for grad in self.weight_updates]\n",
        "          self.adam_bias = [(1-self.beta2)*grad**2 for grad in self.bias_updates]\n",
        "        else:\n",
        "          for i in range(0, len(self.adam_weight)):\n",
        "            self.weight_history[i] = self.beta1*self.weight_history[i] + (1 - self.beta1)*self.weight_updates[i]\n",
        "            self.bias_history[i] = self.beta1*self.bias_history[i] + (1 - self.beta1)*self.bias_updates[i]\n",
        "            self.adam_weight[i] = self.beta2*self.adam_weight[i] + (1 - self.beta2)*self.weight_updates[i]**2\n",
        "            self.adam_bias[i] =  self.beta2*self.adam_bias[i] + (1 - self.beta2)*self.bias_updates[i]**2\n",
        "        \n",
        "        self.adam_grad_weight = [grad/(1-((self.beta1)**self.adam_iter)) for grad in self.weight_history]\n",
        "        self.adam_grad_bias = [grad/(1-((self.beta1)**self.adam_iter)) for grad in self.bias_history]\n",
        "\n",
        "        self.adam_lr_weight = [update/(1-((self.beta2)**self.adam_iter)) for update in self.adam_weight]\n",
        "        self.adam_lr_bias = [update/(1-((self.beta2)**self.adam_iter)) for update in self.adam_bias]\n",
        "\n",
        "        factor = (1 - self.beta1)/(1 - (self.beta1**self.adam_iter))\n",
        "\n",
        "        for i in range(0, len(self.weights)):\n",
        "          self.weights[i] = reg_factor*self.weights[i] - self.lr*((self.beta1*self.adam_grad_weight[i] + (factor*self.weight_updates[i]))/(np.sqrt(self.adam_lr_weight[i] + self.epsilon)))\n",
        "          self.biases[i] = self.biases[i] - self.lr*((self.beta1*self.adam_grad_bias[i] + (factor*self.bias_updates[i]))/(np.sqrt(self.adam_lr_bias[i] + self.epsilon)))\n",
        "        \n",
        "        self.adam_iter = self.adam_iter + 1\n",
        "      \n",
        "      else:\n",
        "        print('Error in optimizer name.')\n",
        "      \n",
        "    def reset(self):\n",
        "      self.loss = 0\n",
        "      self.weight_history = []\n",
        "      self.bias_history = []\n",
        "      self.rmsprop_weight = []\n",
        "      self.rmsprop_bias = []\n",
        "      self.adam_iter = 1\n",
        "      self.adam_weight = []\n",
        "      self.adam_bias = []\n",
        "\n",
        "    \n",
        "    def inference(self, x_test, y_test, loss_flag = True):\n",
        "      if loss_flag:\n",
        "        predictions = []\n",
        "        loss = 0\n",
        "        y_label = copy.deepcopy(y_test)\n",
        "\n",
        "        for (x,y) in zip(x_test,y_test):\n",
        "          pred = self.feedforward(x)\n",
        "          loss = loss + self.loss_fn(pred, y)\n",
        "          predictions.append(pred)\n",
        "        \n",
        "        y_pred = [np.argmax(predictions[i]) for i in range(0,len(predictions))]\n",
        "        y_label = [np.argmax(y_test[i]) for i in range(0,len(y_test))]\n",
        "              \n",
        "        acc = accuracy_score(y_label, y_pred)\n",
        "\n",
        "        return loss, acc\n",
        "\n",
        "      else:\n",
        "        predictions = []\n",
        "        y_label = copy.deepcopy(y_test)\n",
        "\n",
        "        for (x,y) in zip(x_test,y_test):\n",
        "          pred = self.feedforward(x)\n",
        "          predictions.append(pred)\n",
        "        \n",
        "        y_pred = [np.argmax(predictions[i]) for i in range(0,len(predictions))]\n",
        "        y_label = [np.argmax(y_test[i]) for i in range(0,len(y_test))]\n",
        "        \n",
        "        acc = accuracy_score(y_label, y_pred)\n",
        "\n",
        "        return acc\n",
        "    \n",
        "    def epoch(self, x_train, y_train, x_test, y_test, index):\n",
        "      for i in range(0,len(x_train),self.batch_size):\n",
        "        if i+self.batch_size < len(x_train):\n",
        "          xbatch = x_train[i:i+self.batch_size]\n",
        "          ybatch = y_train[i:i+self.batch_size]\n",
        "        else:\n",
        "          xbatch = x_train[i:]\n",
        "          ybatch = y_train[i:]\n",
        "\n",
        "        self.step(xbatch, ybatch)\n",
        "        \n",
        "  \n",
        "      test_loss, test_acc = self.inference(x_test, y_test)\n",
        "      train_acc = self.inference(x_train, y_train, loss_flag = False)\n",
        "      train_loss = self.loss/len(x_train)\n",
        "      test_loss = test_loss/len(x_test)\n",
        "      print(f'Epoch {index+1} completed. Training Loss is {train_loss}, training accuracy is {train_acc}. The test loss is {test_loss} and the test accuracy is {test_acc}.')\n",
        "      self.reset()\n",
        "      return train_loss,train_acc,test_acc,test_loss"
      ]
    },
    {
      "cell_type": "code",
      "execution_count": 9,
      "metadata": {
        "id": "XPo5fvrjxpn3"
      },
      "outputs": [],
      "source": [
        "import numpy as np\n",
        "import cv2\n",
        "import matplotlib.pyplot as plt\n",
        "from keras.datasets import fashion_mnist\n",
        "from keras.utils import to_categorical\n",
        "from sklearn.model_selection import train_test_split\n",
        "\n",
        "\n",
        "network = NeuralNetwork(optimizer = 'nesterov', activation_fn = 'ReLU', batch_size = 64, hl_size = 128, weight_init = 'random', lamda = 0, lr = 0.0001, n_hidden = 3)\n",
        "n_epochs = 10  \n",
        "\n",
        "\n",
        "(trainX, trainy), (testX, testy) = fashion_mnist.load_data()\n",
        "\n",
        "trainX = trainX/255\n",
        "testX = testX/255\n",
        "\n",
        "trainX, valX, trainy, valy = train_test_split(trainX, trainy, test_size=0.1, random_state=40)\n",
        "\n",
        "#Add code to flatten images\n",
        "x_train = []\n",
        "x_test = []\n",
        "x_val = []\n",
        "for i in range(0, len(trainX)):\n",
        "  x_train.append(trainX[i,:,:].flatten())\n",
        "for i in range(0, len(testX)):\n",
        "  x_test.append(testX[i,:,:].flatten())\n",
        "for i in range(0, len(valX)):\n",
        "  x_val.append(valX[i,:,:].flatten())\n",
        "\n",
        "y_train = to_categorical(trainy)\n",
        "y_test = to_categorical(testy)\n",
        "y_val = to_categorical(valy)\n",
        "\n",
        "train_losses = []\n",
        "train_accuracies = []\n",
        "test_losses = []\n",
        "test_accuracies = []\n",
        "print('Training process started with '+network.optimizer+' optimizer.')\n",
        "for i in range(0, n_epochs):\n",
        "    #loss = network.epoch(x_train, trainy_encoded, x_test, testy_encoded, i)\n",
        "    train_loss,train_acc,test_acc,test_loss = network.epoch(x_train, y_train, x_val, y_val, i)\n",
        "    train_losses.append(train_loss)\n",
        "    train_accuracies.append(train_acc)\n",
        "    test_losses.append(test_loss)\n",
        "    test_accuracies.append(test_acc)"
      ]
    },
    {
      "cell_type": "code",
      "execution_count": null,
      "metadata": {
        "id": "Sl8jneNw-InM"
      },
      "outputs": [],
      "source": []
    },
    {
      "cell_type": "markdown",
      "metadata": {
        "id": "CIWj6shZuOl6"
      },
      "source": [
        "#Question 4: Hyperparameter sweep, using wandb"
      ]
    },
    {
      "cell_type": "code",
      "execution_count": null,
      "metadata": {
        "id": "JSd_qNEYzh38"
      },
      "outputs": [],
      "source": [
        "entity_name = \"clroymustang\"\n",
        "project_name = \"cs6910-assignment-1\""
      ]
    },
    {
      "cell_type": "code",
      "execution_count": null,
      "metadata": {
        "id": "FkGDOKxizvAU"
      },
      "outputs": [],
      "source": [
        "def sweep():\n",
        "  defaults = {\n",
        "      'epochs': 5,\n",
        "      'number_hidden_layers': 3,\n",
        "      'hidden_layer_size': 32,\n",
        "      'lamda': 0,\n",
        "      'learning_rate': 0.001,\n",
        "      'initialization_type': 'Xavier',\n",
        "      'optimizer': 'sgd',\n",
        "      'batch_size': 16,\n",
        "      'activation_fn': 'sigmoid'\n",
        "  }\n",
        "  wandb.init(config = defaults)\n",
        "  config = wandb.config\n",
        "\n",
        "  network = NeuralNetwork(n_hidden = config.number_hidden_layers, hl_size = config.hidden_layer_size, weight_init = config.initialization_type, \\\n",
        "                          activation_fn = config.activation_fn, optimizer = config.optimizer, lr = config.learning_rate, lamda = config.lamda, batch_size = config.batch_size)\n",
        "  n_epochs = config.epochs    \n",
        "\n",
        "  for i in range(0, n_epochs):\n",
        "      #loss = network.epoch(x_train, trainy_encoded, x_test, testy_encoded, i)\n",
        "      train_loss,train_acc,test_acc,test_loss = network.epoch(x_train, y_train, x_val, y_val, i)\n",
        "      log_dict = {\"train_loss\":train_loss, \"train_accuracy\":train_acc, \"validation_loss\":test_loss, \"validation_accuracy\":test_acc, \"epoch\":i+1}\n",
        "      wandb.log(log_dict)\n",
        "  \n",
        "  sweep_name = str(config.epochs) + \"_\" + str(config.number_hidden_layers) + \"_\" + str(config.hidden_layer_size) + \"_\" + str(config.lamda) + \"_\" + \\\n",
        "  str(config.learning_rate) + \"_\" + config.initialization_type[0] + \"_\" + config.optimizer[0:2] + \"_\" + str(config.batch_size) + \"_\" + config.activation_fn\n",
        "  wandb.run.name = sweep_name\n",
        "\n",
        "  wandb.run.save()\n",
        "  wandb.run.finish()"
      ]
    },
    {
      "cell_type": "code",
      "execution_count": null,
      "metadata": {
        "id": "Jup8oK2UwiEZ"
      },
      "outputs": [],
      "source": [
        "hyperparameters = {\n",
        "      \"epochs\": {\n",
        "          'values': [5, 10]\n",
        "      },\n",
        "      \"number_hidden_layers\": {\n",
        "          'values' : [3, 4, 5]\n",
        "      },\n",
        "      \"hidden_layer_size\": {\n",
        "          'values' : [32, 64, 128]\n",
        "      },\n",
        "      \"lamda\": {\n",
        "          'values': [0, 0.0005, 0.5]\n",
        "      },\n",
        "      \"learning_rate\":{\n",
        "        'values': [0.001, 0.0001]\n",
        "      },\n",
        "      \"initialization_type\": {\n",
        "          'values' : ['Xavier', 'random']\n",
        "      },\n",
        "      \"optimizer\": {\n",
        "          'values': ['sgd', 'momentum', 'nesterov', 'rmsprop', 'adam', 'nadam']\n",
        "      },\n",
        "      \"batch_size\": {\n",
        "          'values': [16, 32, 64]\n",
        "      },\n",
        "      \"activation_fn\": {\n",
        "          'values': ['sigmoid','tanh','ReLU']\n",
        "      }\n",
        "  }"
      ]
    },
    {
      "cell_type": "code",
      "execution_count": null,
      "metadata": {
        "id": "AtN4Z7G-y9b9"
      },
      "outputs": [],
      "source": [
        "sweep_configuration = {\n",
        "    'method': 'bayes',\n",
        "    'name': 'sweep',\n",
        "    'metric': {\n",
        "        'goal': 'maximize', \n",
        "        'name': 'validation_accuracy'\n",
        "        },\n",
        "    'parameters': hyperparameters\n",
        "}"
      ]
    },
    {
      "cell_type": "code",
      "execution_count": null,
      "metadata": {
        "id": "-ZofwC-7zcww"
      },
      "outputs": [],
      "source": [
        "#sweep_id = wandb.sweep(sweep_configuration, entity=entity_name, project=project_name)\n",
        "sweep_id = 'ng51libu'"
      ]
    },
    {
      "cell_type": "code",
      "execution_count": null,
      "metadata": {
        "colab": {
          "base_uri": "https://localhost:8080/",
          "height": 930
        },
        "id": "zw0XkAzE151S",
        "outputId": "f20dc64f-fc3c-4d0e-c93e-362035a941d3"
      },
      "outputs": [
        {
          "output_type": "stream",
          "name": "stderr",
          "text": [
            "\u001b[34m\u001b[1mwandb\u001b[0m: Agent Starting Run: 53pgamgk with config:\n",
            "\u001b[34m\u001b[1mwandb\u001b[0m: \tactivation_fn: sigmoid\n",
            "\u001b[34m\u001b[1mwandb\u001b[0m: \tbatch_size: 64\n",
            "\u001b[34m\u001b[1mwandb\u001b[0m: \tepochs: 10\n",
            "\u001b[34m\u001b[1mwandb\u001b[0m: \thidden_layer_size: 32\n",
            "\u001b[34m\u001b[1mwandb\u001b[0m: \tinitialization_type: random\n",
            "\u001b[34m\u001b[1mwandb\u001b[0m: \tlamda: 0.0005\n",
            "\u001b[34m\u001b[1mwandb\u001b[0m: \tlearning_rate: 0.001\n",
            "\u001b[34m\u001b[1mwandb\u001b[0m: \tnumber_hidden_layers: 3\n",
            "\u001b[34m\u001b[1mwandb\u001b[0m: \toptimizer: nesterov\n",
            "\u001b[34m\u001b[1mwandb\u001b[0m: Currently logged in as: \u001b[33mdhananjayb\u001b[0m (\u001b[33mclroymustang\u001b[0m). Use \u001b[1m`wandb login --relogin`\u001b[0m to force relogin\n"
          ]
        },
        {
          "output_type": "display_data",
          "data": {
            "text/plain": [
              "<IPython.core.display.HTML object>"
            ],
            "text/html": [
              "Tracking run with wandb version 0.14.0"
            ]
          },
          "metadata": {}
        },
        {
          "output_type": "display_data",
          "data": {
            "text/plain": [
              "<IPython.core.display.HTML object>"
            ],
            "text/html": [
              "Run data is saved locally in <code>/content/wandb/run-20230317_074920-53pgamgk</code>"
            ]
          },
          "metadata": {}
        },
        {
          "output_type": "display_data",
          "data": {
            "text/plain": [
              "<IPython.core.display.HTML object>"
            ],
            "text/html": [
              "Syncing run <strong><a href='https://wandb.ai/clroymustang/cs6910-assignment-1/runs/53pgamgk' target=\"_blank\">colorful-sweep-39</a></strong> to <a href='https://wandb.ai/clroymustang/cs6910-assignment-1' target=\"_blank\">Weights & Biases</a> (<a href='https://wandb.me/run' target=\"_blank\">docs</a>)<br/>Sweep page: <a href='https://wandb.ai/clroymustang/cs6910-assignment-1/sweeps/ng51libu' target=\"_blank\">https://wandb.ai/clroymustang/cs6910-assignment-1/sweeps/ng51libu</a>"
            ]
          },
          "metadata": {}
        },
        {
          "output_type": "display_data",
          "data": {
            "text/plain": [
              "<IPython.core.display.HTML object>"
            ],
            "text/html": [
              " View project at <a href='https://wandb.ai/clroymustang/cs6910-assignment-1' target=\"_blank\">https://wandb.ai/clroymustang/cs6910-assignment-1</a>"
            ]
          },
          "metadata": {}
        },
        {
          "output_type": "display_data",
          "data": {
            "text/plain": [
              "<IPython.core.display.HTML object>"
            ],
            "text/html": [
              " View sweep at <a href='https://wandb.ai/clroymustang/cs6910-assignment-1/sweeps/ng51libu' target=\"_blank\">https://wandb.ai/clroymustang/cs6910-assignment-1/sweeps/ng51libu</a>"
            ]
          },
          "metadata": {}
        },
        {
          "output_type": "display_data",
          "data": {
            "text/plain": [
              "<IPython.core.display.HTML object>"
            ],
            "text/html": [
              " View run at <a href='https://wandb.ai/clroymustang/cs6910-assignment-1/runs/53pgamgk' target=\"_blank\">https://wandb.ai/clroymustang/cs6910-assignment-1/runs/53pgamgk</a>"
            ]
          },
          "metadata": {}
        },
        {
          "output_type": "stream",
          "name": "stderr",
          "text": [
            "\u001b[34m\u001b[1mwandb\u001b[0m: \u001b[33mWARNING\u001b[0m Calling wandb.run.save without any arguments is deprecated.Changes to attributes are automatically persisted.\n"
          ]
        },
        {
          "output_type": "display_data",
          "data": {
            "text/plain": [
              "<IPython.core.display.HTML object>"
            ],
            "text/html": [
              "Waiting for W&B process to finish... <strong style=\"color:green\">(success).</strong>"
            ]
          },
          "metadata": {}
        },
        {
          "output_type": "display_data",
          "data": {
            "text/plain": [
              "<IPython.core.display.HTML object>"
            ],
            "text/html": [
              "<style>\n",
              "    table.wandb td:nth-child(1) { padding: 0 10px; text-align: left ; width: auto;} td:nth-child(2) {text-align: left ; width: 100%}\n",
              "    .wandb-row { display: flex; flex-direction: row; flex-wrap: wrap; justify-content: flex-start; width: 100% }\n",
              "    .wandb-col { display: flex; flex-direction: column; flex-basis: 100%; flex: 1; padding: 10px; }\n",
              "    </style>\n",
              "<div class=\"wandb-row\"><div class=\"wandb-col\"><h3>Run history:</h3><br/><table class=\"wandb\"><tr><td>epoch</td><td>▁▂▃▃▄▅▆▆▇█</td></tr><tr><td>train_accuracy</td><td>▁▃▅▆▆▇▇▇██</td></tr><tr><td>train_loss</td><td>█▆▄▂▁▁▁▁▁▁</td></tr><tr><td>validation_accuracy</td><td>▁▃▅▆▇▇▇▇██</td></tr><tr><td>validation_loss</td><td>█▄▃▂▁▁▁▁▁▁</td></tr></table><br/></div><div class=\"wandb-col\"><h3>Run summary:</h3><br/><table class=\"wandb\"><tr><td>epoch</td><td>10</td></tr><tr><td>train_accuracy</td><td>0.86302</td></tr><tr><td>train_loss</td><td>1.21804</td></tr><tr><td>validation_accuracy</td><td>0.851</td></tr><tr><td>validation_loss</td><td>1.23936</td></tr></table><br/></div></div>"
            ]
          },
          "metadata": {}
        },
        {
          "output_type": "display_data",
          "data": {
            "text/plain": [
              "<IPython.core.display.HTML object>"
            ],
            "text/html": [
              " View run <strong style=\"color:#cdcd00\">colorful-sweep-39</strong> at: <a href='https://wandb.ai/clroymustang/cs6910-assignment-1/runs/53pgamgk' target=\"_blank\">https://wandb.ai/clroymustang/cs6910-assignment-1/runs/53pgamgk</a><br/>Synced 5 W&B file(s), 0 media file(s), 0 artifact file(s) and 0 other file(s)"
            ]
          },
          "metadata": {}
        },
        {
          "output_type": "display_data",
          "data": {
            "text/plain": [
              "<IPython.core.display.HTML object>"
            ],
            "text/html": [
              "Find logs at: <code>./wandb/run-20230317_074920-53pgamgk/logs</code>"
            ]
          },
          "metadata": {}
        },
        {
          "output_type": "stream",
          "name": "stderr",
          "text": [
            "\u001b[34m\u001b[1mwandb\u001b[0m: Agent Starting Run: k3vbsmn8 with config:\n",
            "\u001b[34m\u001b[1mwandb\u001b[0m: \tactivation_fn: tanh\n",
            "\u001b[34m\u001b[1mwandb\u001b[0m: \tbatch_size: 64\n",
            "\u001b[34m\u001b[1mwandb\u001b[0m: \tepochs: 10\n",
            "\u001b[34m\u001b[1mwandb\u001b[0m: \thidden_layer_size: 128\n",
            "\u001b[34m\u001b[1mwandb\u001b[0m: \tinitialization_type: random\n",
            "\u001b[34m\u001b[1mwandb\u001b[0m: \tlamda: 0.0005\n",
            "\u001b[34m\u001b[1mwandb\u001b[0m: \tlearning_rate: 0.001\n",
            "\u001b[34m\u001b[1mwandb\u001b[0m: \tnumber_hidden_layers: 3\n",
            "\u001b[34m\u001b[1mwandb\u001b[0m: \toptimizer: sgd\n"
          ]
        },
        {
          "output_type": "display_data",
          "data": {
            "text/plain": [
              "<IPython.core.display.HTML object>"
            ],
            "text/html": [
              "Tracking run with wandb version 0.14.0"
            ]
          },
          "metadata": {}
        },
        {
          "output_type": "display_data",
          "data": {
            "text/plain": [
              "<IPython.core.display.HTML object>"
            ],
            "text/html": [
              "Run data is saved locally in <code>/content/wandb/run-20230317_082828-k3vbsmn8</code>"
            ]
          },
          "metadata": {}
        },
        {
          "output_type": "display_data",
          "data": {
            "text/plain": [
              "<IPython.core.display.HTML object>"
            ],
            "text/html": [
              "Syncing run <strong><a href='https://wandb.ai/clroymustang/cs6910-assignment-1/runs/k3vbsmn8' target=\"_blank\">solar-sweep-40</a></strong> to <a href='https://wandb.ai/clroymustang/cs6910-assignment-1' target=\"_blank\">Weights & Biases</a> (<a href='https://wandb.me/run' target=\"_blank\">docs</a>)<br/>Sweep page: <a href='https://wandb.ai/clroymustang/cs6910-assignment-1/sweeps/ng51libu' target=\"_blank\">https://wandb.ai/clroymustang/cs6910-assignment-1/sweeps/ng51libu</a>"
            ]
          },
          "metadata": {}
        },
        {
          "output_type": "display_data",
          "data": {
            "text/plain": [
              "<IPython.core.display.HTML object>"
            ],
            "text/html": [
              " View project at <a href='https://wandb.ai/clroymustang/cs6910-assignment-1' target=\"_blank\">https://wandb.ai/clroymustang/cs6910-assignment-1</a>"
            ]
          },
          "metadata": {}
        },
        {
          "output_type": "display_data",
          "data": {
            "text/plain": [
              "<IPython.core.display.HTML object>"
            ],
            "text/html": [
              " View sweep at <a href='https://wandb.ai/clroymustang/cs6910-assignment-1/sweeps/ng51libu' target=\"_blank\">https://wandb.ai/clroymustang/cs6910-assignment-1/sweeps/ng51libu</a>"
            ]
          },
          "metadata": {}
        },
        {
          "output_type": "display_data",
          "data": {
            "text/plain": [
              "<IPython.core.display.HTML object>"
            ],
            "text/html": [
              " View run at <a href='https://wandb.ai/clroymustang/cs6910-assignment-1/runs/k3vbsmn8' target=\"_blank\">https://wandb.ai/clroymustang/cs6910-assignment-1/runs/k3vbsmn8</a>"
            ]
          },
          "metadata": {}
        },
        {
          "output_type": "stream",
          "name": "stderr",
          "text": [
            "\u001b[34m\u001b[1mwandb\u001b[0m: Ctrl + C detected. Stopping sweep.\n"
          ]
        }
      ],
      "source": [
        "wandb.agent(sweep_id, sweep, project = project_name)"
      ]
    },
    {
      "cell_type": "markdown",
      "source": [
        "#Question 7: Confusion Matrix for best configurations"
      ],
      "metadata": {
        "id": "PXIOfZOo_hV1"
      }
    },
    {
      "cell_type": "code",
      "source": [
        "import pickle\n",
        "import seaborn as sns\n",
        "from sklearn.metrics import confusion_matrix\n",
        "import pandas as pd"
      ],
      "metadata": {
        "id": "l2hFVp4tcd9_"
      },
      "execution_count": 10,
      "outputs": []
    },
    {
      "cell_type": "code",
      "execution_count": 11,
      "metadata": {
        "id": "bAORxT6U5RYU"
      },
      "outputs": [],
      "source": [
        "best_params_1 = {\n",
        "  'n_hidden':3, 'hl_size': 128, 'batch_size':32, 'weight_init':'Xavier', 'activation_fn':'tanh', \\\n",
        " 'optimizer':'nadam', 'lamda':0.0005, 'lr':0.001\n",
        "}\n",
        "\n",
        "n_epoch_1 = 10"
      ]
    },
    {
      "cell_type": "code",
      "source": [
        "best_params_2 = {\n",
        "  'n_hidden':5, 'hl_size': 128, 'batch_size':32, 'weight_init':'Xavier', 'activation_fn':'tanh', \\\n",
        " 'optimizer':'adam', 'lamda':0.5, 'lr':0.0001\n",
        "}\n",
        "\n",
        "n_epoch_2 = 9"
      ],
      "metadata": {
        "id": "yk0MJCQ2BhB8"
      },
      "execution_count": 12,
      "outputs": []
    },
    {
      "cell_type": "code",
      "source": [
        "best_params_3 = {\n",
        "  'n_hidden':3, 'hl_size': 128, 'batch_size':64, 'weight_init':'Xavier', 'activation_fn':'ReLU', \\\n",
        " 'optimizer':'nadam', 'lamda':0.5, 'lr':0.001\n",
        "}\n",
        "\n",
        "n_epoch_3 = 4"
      ],
      "metadata": {
        "id": "Mf4pSMukB2m5"
      },
      "execution_count": 13,
      "outputs": []
    },
    {
      "cell_type": "code",
      "source": [
        "network1 = NeuralNetwork(**best_params_1)\n",
        "\n",
        "print('Training process started with '+network1.optimizer+' optimizer.')\n",
        "for i in range(0, n_epoch_1):\n",
        "    #loss = network.epoch(x_train, trainy_encoded, x_test, testy_encoded, i)\n",
        "    train_loss,train_acc,test_acc,test_loss = network1.epoch(x_train, y_train, x_val, y_val, i)"
      ],
      "metadata": {
        "colab": {
          "base_uri": "https://localhost:8080/"
        },
        "id": "geh6WCGoa9uW",
        "outputId": "731d41f6-f220-48f2-9a06-166aa3538a93"
      },
      "execution_count": null,
      "outputs": [
        {
          "output_type": "stream",
          "name": "stdout",
          "text": [
            "Training process started with nadam optimizer.\n",
            "Epoch 1 completed. Training Loss is 0.7698900068745445, training accuracy is 0.8655185185185185. The test loss is 0.7710072002730421 and the test accuracy is 0.852.\n",
            "Epoch 2 completed. Training Loss is 0.7985333316202926, training accuracy is 0.8816481481481482. The test loss is 0.8680540481152957 and the test accuracy is 0.8671666666666666.\n",
            "Epoch 3 completed. Training Loss is 0.9012747847064005, training accuracy is 0.8919074074074074. The test loss is 0.9954321164831265 and the test accuracy is 0.8735.\n",
            "Epoch 4 completed. Training Loss is 1.0221100823361338, training accuracy is 0.8962777777777777. The test loss is 1.1307276573704517 and the test accuracy is 0.8768333333333334.\n",
            "Epoch 5 completed. Training Loss is 1.1514226127445846, training accuracy is 0.8995. The test loss is 1.2818578533002585 and the test accuracy is 0.8785.\n",
            "Epoch 6 completed. Training Loss is 1.2840985482220728, training accuracy is 0.9041851851851852. The test loss is 1.424879810255624 and the test accuracy is 0.884.\n",
            "Epoch 7 completed. Training Loss is 1.422565370444845, training accuracy is 0.9071481481481481. The test loss is 1.5833966958365682 and the test accuracy is 0.8826666666666667.\n",
            "Epoch 8 completed. Training Loss is 1.5627321376672432, training accuracy is 0.9068888888888889. The test loss is 1.7342860382287988 and the test accuracy is 0.8831666666666667.\n",
            "Epoch 9 completed. Training Loss is 1.700399021692349, training accuracy is 0.9065555555555556. The test loss is 1.8824247037508504 and the test accuracy is 0.8836666666666667.\n",
            "Epoch 10 completed. Training Loss is 1.8389419262578068, training accuracy is 0.9082592592592592. The test loss is 2.036029680638169 and the test accuracy is 0.8823333333333333.\n"
          ]
        }
      ]
    },
    {
      "cell_type": "code",
      "source": [
        "file_name = 'model1.pkl'\n",
        "with open(file_name, 'wb') as file:\n",
        "    pickle.dump(network1, file)\n",
        "    print(f'Object successfully saved to \"{file_name}\"')"
      ],
      "metadata": {
        "colab": {
          "base_uri": "https://localhost:8080/"
        },
        "id": "vfNP46uOblbJ",
        "outputId": "bd980372-0329-4ef7-feca-0e91f01d49fb"
      },
      "execution_count": null,
      "outputs": [
        {
          "output_type": "stream",
          "name": "stdout",
          "text": [
            "Object successfully saved to \"model1.pkl\"\n"
          ]
        }
      ]
    },
    {
      "cell_type": "code",
      "source": [
        "network2 = NeuralNetwork(**best_params_2)\n",
        "\n",
        "print('Training process started with '+network2.optimizer+' optimizer.')\n",
        "for i in range(0, n_epoch_2):\n",
        "    #loss = network.epoch(x_train, trainy_encoded, x_test, testy_encoded, i)\n",
        "    train_loss,train_acc,test_acc,test_loss = network2.epoch(x_train, y_train, x_val, y_val, i)\n",
        "\n",
        "file_name = 'model2.pkl'\n",
        "with open(file_name, 'wb') as file:\n",
        "    pickle.dump(network2, file)\n",
        "    print(f'Object successfully saved to \"{file_name}\"')"
      ],
      "metadata": {
        "colab": {
          "base_uri": "https://localhost:8080/"
        },
        "id": "8qIpMhlecuh9",
        "outputId": "a5ca75f9-162f-4881-a131-1422b264436d"
      },
      "execution_count": null,
      "outputs": [
        {
          "output_type": "stream",
          "name": "stdout",
          "text": [
            "Training process started with adam optimizer.\n",
            "Epoch 1 completed. Training Loss is 386.4706764989969, training accuracy is 0.8507037037037037. The test loss is 391.7977572619823 and the test accuracy is 0.8448333333333333.\n",
            "Epoch 2 completed. Training Loss is 394.8275922100034, training accuracy is 0.8678333333333333. The test loss is 397.32710172225177 and the test accuracy is 0.8585.\n",
            "Epoch 3 completed. Training Loss is 399.7543880516974, training accuracy is 0.8753333333333333. The test loss is 401.8819396635416 and the test accuracy is 0.864.\n",
            "Epoch 4 completed. Training Loss is 404.0839130243086, training accuracy is 0.8812592592592593. The test loss is 406.0646000936023 and the test accuracy is 0.8698333333333333.\n",
            "Epoch 5 completed. Training Loss is 408.1579393432675, training accuracy is 0.8864074074074074. The test loss is 410.07340872089804 and the test accuracy is 0.8745.\n",
            "Epoch 6 completed. Training Loss is 412.11526231230795, training accuracy is 0.8901296296296296. The test loss is 414.0011407983784 and the test accuracy is 0.8765.\n",
            "Epoch 7 completed. Training Loss is 416.01755506549983, training accuracy is 0.8932222222222223. The test loss is 417.89087592751275 and the test accuracy is 0.8796666666666667.\n",
            "Epoch 8 completed. Training Loss is 419.89271821880794, training accuracy is 0.8964814814814814. The test loss is 421.7597411939109 and the test accuracy is 0.881.\n",
            "Epoch 9 completed. Training Loss is 423.7504958679158, training accuracy is 0.8996296296296297. The test loss is 425.6149602319922 and the test accuracy is 0.8823333333333333.\n",
            "Object successfully saved to \"model2.pkl\"\n"
          ]
        }
      ]
    },
    {
      "cell_type": "code",
      "source": [
        "network3 = NeuralNetwork(**best_params_3)\n",
        "\n",
        "print('Training process started with '+network3.optimizer+' optimizer.')\n",
        "for i in range(0, n_epoch_3):\n",
        "    #loss = network.epoch(x_train, trainy_encoded, x_test, testy_encoded, i)\n",
        "    train_loss,train_acc,test_acc,test_loss = network3.epoch(x_train, y_train, x_val, y_val, i)\n",
        "\n",
        "file_name = 'model3.pkl'\n",
        "with open(file_name, 'wb') as file:\n",
        "    pickle.dump(network3, file)\n",
        "    print(f'Object successfully saved to \"{file_name}\"')"
      ],
      "metadata": {
        "colab": {
          "base_uri": "https://localhost:8080/"
        },
        "id": "39sC-m1-lv7j",
        "outputId": "e3554cc0-7f64-4906-e24b-567effb7f02f"
      },
      "execution_count": null,
      "outputs": [
        {
          "output_type": "stream",
          "name": "stdout",
          "text": [
            "Training process started with nadam optimizer.\n",
            "Epoch 1 completed. Training Loss is 286.34345438882485, training accuracy is 0.8702777777777778. The test loss is 313.48957692354674 and the test accuracy is 0.8586666666666667.\n",
            "Epoch 2 completed. Training Loss is 343.25229965476245, training accuracy is 0.8854814814814815. The test loss is 370.4246792883727 and the test accuracy is 0.8713333333333333.\n",
            "Epoch 3 completed. Training Loss is 399.9542791131284, training accuracy is 0.895462962962963. The test loss is 427.2923839935217 and the test accuracy is 0.8756666666666667.\n",
            "Epoch 4 completed. Training Loss is 456.303359815393, training accuracy is 0.8996851851851851. The test loss is 483.66983029885836 and the test accuracy is 0.8811666666666667.\n",
            "Object successfully saved to \"model3.pkl\"\n"
          ]
        }
      ]
    },
    {
      "cell_type": "markdown",
      "source": [
        "Now, getting to the confusion matrix itself"
      ],
      "metadata": {
        "id": "zyQeuS0-PKJC"
      }
    },
    {
      "cell_type": "code",
      "source": [
        "images = []"
      ],
      "metadata": {
        "id": "OXNZlWWzUakL"
      },
      "execution_count": null,
      "outputs": []
    },
    {
      "cell_type": "code",
      "source": [
        "with open('model1.pkl', 'rb') as f:\n",
        "    model1 = pickle.load(f)"
      ],
      "metadata": {
        "id": "G_dDpOMatcZi"
      },
      "execution_count": null,
      "outputs": []
    },
    {
      "cell_type": "code",
      "source": [
        "predictions = []\n",
        "for x in x_test:\n",
        "  pred = model1.feedforward(x)\n",
        "  predictions.append(pred)\n",
        "        \n",
        "y_pred = [np.argmax(predictions[i]) for i in range(0,len(predictions))]\n",
        "y_label = [np.argmax(y_test[i]) for i in range(0,len(y_test))]"
      ],
      "metadata": {
        "id": "KW-NoP2YP0qN"
      },
      "execution_count": null,
      "outputs": []
    },
    {
      "cell_type": "code",
      "source": [
        "print(accuracy_score(y_label, y_pred))"
      ],
      "metadata": {
        "colab": {
          "base_uri": "https://localhost:8080/"
        },
        "id": "csGfMf1NYz_h",
        "outputId": "37c77ef1-ed95-49e0-c1b4-333235dbd945"
      },
      "execution_count": null,
      "outputs": [
        {
          "output_type": "stream",
          "name": "stdout",
          "text": [
            "0.872\n"
          ]
        }
      ]
    },
    {
      "cell_type": "code",
      "source": [
        "cm = pd.DataFrame(confusion_matrix(y_label, y_pred), columns=labels_fashion_mnist, index = labels_fashion_mnist)"
      ],
      "metadata": {
        "id": "TA1KKjB7TLxq"
      },
      "execution_count": null,
      "outputs": []
    },
    {
      "cell_type": "code",
      "source": [
        "image = sns.heatmap(cm)\n",
        "images.append(wandb.Image(image, caption = 'Model 1'))"
      ],
      "metadata": {
        "colab": {
          "base_uri": "https://localhost:8080/",
          "height": 309
        },
        "id": "jwqHyyWxQn2X",
        "outputId": "0b9f5d31-3788-4f92-feb8-9c1fe52a2166"
      },
      "execution_count": null,
      "outputs": [
        {
          "output_type": "display_data",
          "data": {
            "text/plain": [
              "<Figure size 432x288 with 2 Axes>"
            ],
            "image/png": "[encoded data removed]"
          },
          "metadata": {
            "needs_background": "light"
          }
        }
      ]
    },
    {
      "cell_type": "code",
      "source": [
        "with open('model2.pkl', 'rb') as f:\n",
        "    model2 = pickle.load(f)"
      ],
      "metadata": {
        "id": "TdOQwFgIU53Q"
      },
      "execution_count": null,
      "outputs": []
    },
    {
      "cell_type": "code",
      "source": [
        "predictions = []\n",
        "for x in x_test:\n",
        "  pred = model2.feedforward(x)\n",
        "  predictions.append(pred)\n",
        "        \n",
        "y_pred = [np.argmax(predictions[i]) for i in range(0,len(predictions))]\n",
        "y_label = [np.argmax(y_test[i]) for i in range(0,len(y_test))]"
      ],
      "metadata": {
        "id": "I8Q0x2iVU53S"
      },
      "execution_count": null,
      "outputs": []
    },
    {
      "cell_type": "code",
      "source": [
        "print(accuracy_score(y_label, y_pred))"
      ],
      "metadata": {
        "colab": {
          "base_uri": "https://localhost:8080/"
        },
        "id": "aSYnvTRaY_uX",
        "outputId": "56b511ef-6117-4b88-a990-f174c8f9037c"
      },
      "execution_count": null,
      "outputs": [
        {
          "output_type": "stream",
          "name": "stdout",
          "text": [
            "0.871\n"
          ]
        }
      ]
    },
    {
      "cell_type": "code",
      "source": [
        "cm = pd.DataFrame(confusion_matrix(y_label, y_pred), columns=labels_fashion_mnist, index = labels_fashion_mnist)"
      ],
      "metadata": {
        "id": "lPSGNRHEU53S"
      },
      "execution_count": null,
      "outputs": []
    },
    {
      "cell_type": "code",
      "source": [
        "image = sns.heatmap(cm)\n",
        "images.append(wandb.Image(image, caption = 'Model 2'))"
      ],
      "metadata": {
        "colab": {
          "base_uri": "https://localhost:8080/",
          "height": 309
        },
        "outputId": "1cf48d12-3e23-4d00-91f2-8619762abbad",
        "id": "Sq56h5OJU53S"
      },
      "execution_count": null,
      "outputs": [
        {
          "output_type": "display_data",
          "data": {
            "text/plain": [
              "<Figure size 432x288 with 2 Axes>"
            ],
            "image/png": "[encoded data removed]"
          },
          "metadata": {
            "needs_background": "light"
          }
        }
      ]
    },
    {
      "cell_type": "code",
      "source": [
        "with open('model3.pkl', 'rb') as f:\n",
        "    model3 = pickle.load(f)"
      ],
      "metadata": {
        "id": "bcC_pCA6VD51"
      },
      "execution_count": null,
      "outputs": []
    },
    {
      "cell_type": "code",
      "source": [
        "predictions = []\n",
        "for x in x_test:\n",
        "  pred = model3.feedforward(x)\n",
        "  predictions.append(pred)\n",
        "        \n",
        "y_pred = [np.argmax(predictions[i]) for i in range(0,len(predictions))]\n",
        "y_label = [np.argmax(y_test[i]) for i in range(0,len(y_test))]"
      ],
      "metadata": {
        "id": "zemQHcpVVD52"
      },
      "execution_count": null,
      "outputs": []
    },
    {
      "cell_type": "code",
      "source": [
        "print(accuracy_score(y_label, y_pred))"
      ],
      "metadata": {
        "colab": {
          "base_uri": "https://localhost:8080/"
        },
        "id": "SbmT5E-dZCWC",
        "outputId": "9a3e24d5-66b4-4a81-f776-502188aa1bb3"
      },
      "execution_count": null,
      "outputs": [
        {
          "output_type": "stream",
          "name": "stdout",
          "text": [
            "0.874\n"
          ]
        }
      ]
    },
    {
      "cell_type": "code",
      "source": [
        "cm = pd.DataFrame(confusion_matrix(y_label, y_pred), columns=labels_fashion_mnist, index = labels_fashion_mnist)"
      ],
      "metadata": {
        "id": "G_0sbsqVVD52"
      },
      "execution_count": null,
      "outputs": []
    },
    {
      "cell_type": "code",
      "source": [
        "image = sns.heatmap(cm)\n",
        "images.append(wandb.Image(image, caption = 'Model 3'))"
      ],
      "metadata": {
        "colab": {
          "base_uri": "https://localhost:8080/",
          "height": 309
        },
        "id": "1PAp5PpgVD53",
        "outputId": "19ba527d-4483-490a-a610-8e8030621baa"
      },
      "execution_count": null,
      "outputs": [
        {
          "output_type": "display_data",
          "data": {
            "text/plain": [
              "<Figure size 432x288 with 2 Axes>"
            ],
            "image/png": "[encoded data removed]"
          },
          "metadata": {
            "needs_background": "light"
          }
        }
      ]
    },
    {
      "cell_type": "code",
      "source": [
        "wandb.init(entity=entity_name,project=project_name, name=\"q7_run\")\n",
        "wandb.log({\"Confusion_Matrix\":images})\n",
        "wandb.finish()"
      ],
      "metadata": {
        "colab": {
          "base_uri": "https://localhost:8080/",
          "height": 237,
          "referenced_widgets": [
            "e422306498f14a44b7e7d651c736421c",
            "1bfe45189b144fd0bed9aa2deb81ab45",
            "afefa6816e6c4236842d5ba00b5a041f",
            "36644f6056794aac84e2ecc6d7b27c4c",
            "b4e065f272ae4138848f0e810b98243f",
            "1fe454c7e77f4011b6c7d42d418b8264",
            "7e172af270674abaad8cf586b34e8084",
            "0f0e7f8543dd440a837f83415709901a"
          ]
        },
        "id": "ZPDXH0xEVJh9",
        "outputId": "ac1a15c3-2923-4983-8b34-4126f2ef8416"
      },
      "execution_count": null,
      "outputs": [
        {
          "output_type": "display_data",
          "data": {
            "text/plain": [
              "<IPython.core.display.HTML object>"
            ],
            "text/html": [
              "Tracking run with wandb version 0.14.0"
            ]
          },
          "metadata": {}
        },
        {
          "output_type": "display_data",
          "data": {
            "text/plain": [
              "<IPython.core.display.HTML object>"
            ],
            "text/html": [
              "Run data is saved locally in <code>/content/wandb/run-20230319_192930-pmspdpgp</code>"
            ]
          },
          "metadata": {}
        },
        {
          "output_type": "display_data",
          "data": {
            "text/plain": [
              "<IPython.core.display.HTML object>"
            ],
            "text/html": [
              "Syncing run <strong><a href='https://wandb.ai/clroymustang/cs6910-assignment-1/runs/pmspdpgp' target=\"_blank\">q7_run</a></strong> to <a href='https://wandb.ai/clroymustang/cs6910-assignment-1' target=\"_blank\">Weights & Biases</a> (<a href='https://wandb.me/run' target=\"_blank\">docs</a>)<br/>"
            ]
          },
          "metadata": {}
        },
        {
          "output_type": "display_data",
          "data": {
            "text/plain": [
              "<IPython.core.display.HTML object>"
            ],
            "text/html": [
              " View project at <a href='https://wandb.ai/clroymustang/cs6910-assignment-1' target=\"_blank\">https://wandb.ai/clroymustang/cs6910-assignment-1</a>"
            ]
          },
          "metadata": {}
        },
        {
          "output_type": "display_data",
          "data": {
            "text/plain": [
              "<IPython.core.display.HTML object>"
            ],
            "text/html": [
              " View run at <a href='https://wandb.ai/clroymustang/cs6910-assignment-1/runs/pmspdpgp' target=\"_blank\">https://wandb.ai/clroymustang/cs6910-assignment-1/runs/pmspdpgp</a>"
            ]
          },
          "metadata": {}
        },
        {
          "output_type": "display_data",
          "data": {
            "text/plain": [
              "<IPython.core.display.HTML object>"
            ],
            "text/html": [
              "Waiting for W&B process to finish... <strong style=\"color:green\">(success).</strong>"
            ]
          },
          "metadata": {}
        },
        {
          "output_type": "display_data",
          "data": {
            "text/plain": [
              "VBox(children=(Label(value='0.031 MB of 0.043 MB uploaded (0.000 MB deduped)\\r'), FloatProgress(value=0.725142…"
            ],
            "application/vnd.jupyter.widget-view+json": {
              "version_major": 2,
              "version_minor": 0,
              "model_id": "e422306498f14a44b7e7d651c736421c"
            }
          },
          "metadata": {}
        },
        {
          "output_type": "display_data",
          "data": {
            "text/plain": [
              "<IPython.core.display.HTML object>"
            ],
            "text/html": [
              " View run <strong style=\"color:#cdcd00\">q7_run</strong> at: <a href='https://wandb.ai/clroymustang/cs6910-assignment-1/runs/pmspdpgp' target=\"_blank\">https://wandb.ai/clroymustang/cs6910-assignment-1/runs/pmspdpgp</a><br/>Synced 4 W&B file(s), 3 media file(s), 0 artifact file(s) and 0 other file(s)"
            ]
          },
          "metadata": {}
        },
        {
          "output_type": "display_data",
          "data": {
            "text/plain": [
              "<IPython.core.display.HTML object>"
            ],
            "text/html": [
              "Find logs at: <code>./wandb/run-20230319_192930-pmspdpgp/logs</code>"
            ]
          },
          "metadata": {}
        }
      ]
    },
    {
      "cell_type": "markdown",
      "source": [
        "#Question 8: Comparing with MSE"
      ],
      "metadata": {
        "id": "uxS0l4TuZf8i"
      }
    },
    {
      "cell_type": "code",
      "source": [
        "best_params_1['loss_type'] = 'MSE'\n",
        "network = NeuralNetwork(**best_params_1)\n",
        "\n",
        "wandb.init(entity=entity_name,project=project_name, name=\"mse_run\")\n",
        "\n",
        "print('Training process started with '+network.optimizer+' optimizer.')\n",
        "for i in range(0, n_epoch_1):\n",
        "    train_loss,train_acc,test_acc,test_loss = network.epoch(x_train, y_train, x_val, y_val, i)\n",
        "    log_dict = {\"train_loss\":train_loss, \"train_accuracy\":train_acc, \"validation_loss\":test_loss, \"validation_accuracy\":test_acc, \"epoch\":i+1}\n",
        "    wandb.log(log_dict)\n",
        "\n",
        "wandb.run.save()\n",
        "wandb.run.finish()"
      ],
      "metadata": {
        "colab": {
          "base_uri": "https://localhost:8080/",
          "height": 620
        },
        "id": "M7-kMutKVoK6",
        "outputId": "b01d4659-7682-40e5-efb9-1e2d966aa82d"
      },
      "execution_count": 22,
      "outputs": [
        {
          "output_type": "stream",
          "name": "stderr",
          "text": [
            "\u001b[34m\u001b[1mwandb\u001b[0m: Currently logged in as: \u001b[33mdhananjayb\u001b[0m (\u001b[33mclroymustang\u001b[0m). Use \u001b[1m`wandb login --relogin`\u001b[0m to force relogin\n"
          ]
        },
        {
          "output_type": "display_data",
          "data": {
            "text/plain": [
              "<IPython.core.display.HTML object>"
            ],
            "text/html": [
              "Tracking run with wandb version 0.14.0"
            ]
          },
          "metadata": {}
        },
        {
          "output_type": "display_data",
          "data": {
            "text/plain": [
              "<IPython.core.display.HTML object>"
            ],
            "text/html": [
              "Run data is saved locally in <code>/content/wandb/run-20230320_133600-bxaszo2c</code>"
            ]
          },
          "metadata": {}
        },
        {
          "output_type": "display_data",
          "data": {
            "text/plain": [
              "<IPython.core.display.HTML object>"
            ],
            "text/html": [
              "Syncing run <strong><a href='https://wandb.ai/clroymustang/cs6910-assignment-1/runs/bxaszo2c' target=\"_blank\">mse_run</a></strong> to <a href='https://wandb.ai/clroymustang/cs6910-assignment-1' target=\"_blank\">Weights & Biases</a> (<a href='https://wandb.me/run' target=\"_blank\">docs</a>)<br/>"
            ]
          },
          "metadata": {}
        },
        {
          "output_type": "display_data",
          "data": {
            "text/plain": [
              "<IPython.core.display.HTML object>"
            ],
            "text/html": [
              " View project at <a href='https://wandb.ai/clroymustang/cs6910-assignment-1' target=\"_blank\">https://wandb.ai/clroymustang/cs6910-assignment-1</a>"
            ]
          },
          "metadata": {}
        },
        {
          "output_type": "display_data",
          "data": {
            "text/plain": [
              "<IPython.core.display.HTML object>"
            ],
            "text/html": [
              " View run at <a href='https://wandb.ai/clroymustang/cs6910-assignment-1/runs/bxaszo2c' target=\"_blank\">https://wandb.ai/clroymustang/cs6910-assignment-1/runs/bxaszo2c</a>"
            ]
          },
          "metadata": {}
        },
        {
          "output_type": "stream",
          "name": "stdout",
          "text": [
            "Training process started with nadam optimizer.\n",
            "Epoch 1 completed. Training Loss is 0.4010596692875084, training accuracy is 0.8578703703703704. The test loss is 0.47018222452279507 and the test accuracy is 0.8455.\n",
            "Epoch 2 completed. Training Loss is 0.5407376554326214, training accuracy is 0.8796111111111111. The test loss is 0.6131737216373971 and the test accuracy is 0.8668333333333333.\n",
            "Epoch 3 completed. Training Loss is 0.691067156155829, training accuracy is 0.8843148148148148. The test loss is 0.7700227663806325 and the test accuracy is 0.8688333333333333.\n",
            "Epoch 4 completed. Training Loss is 0.8547500246811254, training accuracy is 0.8901666666666667. The test loss is 0.9367222006394795 and the test accuracy is 0.8763333333333333.\n",
            "Epoch 5 completed. Training Loss is 1.0199133613069666, training accuracy is 0.8926666666666667. The test loss is 1.102836145910949 and the test accuracy is 0.877.\n",
            "Epoch 6 completed. Training Loss is 1.1927143091971089, training accuracy is 0.896. The test loss is 1.2810964194243677 and the test accuracy is 0.8805.\n",
            "Epoch 7 completed. Training Loss is 1.3829845265769647, training accuracy is 0.8888148148148148. The test loss is 1.4841978432592808 and the test accuracy is 0.8733333333333333.\n",
            "Epoch 8 completed. Training Loss is 1.5945433555146398, training accuracy is 0.9003888888888889. The test loss is 1.6991123258182557 and the test accuracy is 0.8763333333333333.\n",
            "Epoch 9 completed. Training Loss is 1.80642860234004, training accuracy is 0.8971481481481481. The test loss is 1.9015979121402617 and the test accuracy is 0.8773333333333333.\n"
          ]
        },
        {
          "output_type": "stream",
          "name": "stderr",
          "text": [
            "\u001b[34m\u001b[1mwandb\u001b[0m: \u001b[33mWARNING\u001b[0m Calling wandb.run.save without any arguments is deprecated.Changes to attributes are automatically persisted.\n"
          ]
        },
        {
          "output_type": "stream",
          "name": "stdout",
          "text": [
            "Epoch 10 completed. Training Loss is 2.0007476452915522, training accuracy is 0.8839444444444444. The test loss is 2.0882356445787935 and the test accuracy is 0.8681666666666666.\n"
          ]
        },
        {
          "output_type": "display_data",
          "data": {
            "text/plain": [
              "<IPython.core.display.HTML object>"
            ],
            "text/html": [
              "Waiting for W&B process to finish... <strong style=\"color:green\">(success).</strong>"
            ]
          },
          "metadata": {}
        },
        {
          "output_type": "display_data",
          "data": {
            "text/plain": [
              "<IPython.core.display.HTML object>"
            ],
            "text/html": [
              "<style>\n",
              "    table.wandb td:nth-child(1) { padding: 0 10px; text-align: left ; width: auto;} td:nth-child(2) {text-align: left ; width: 100%}\n",
              "    .wandb-row { display: flex; flex-direction: row; flex-wrap: wrap; justify-content: flex-start; width: 100% }\n",
              "    .wandb-col { display: flex; flex-direction: column; flex-basis: 100%; flex: 1; padding: 10px; }\n",
              "    </style>\n",
              "<div class=\"wandb-row\"><div class=\"wandb-col\"><h3>Run history:</h3><br/><table class=\"wandb\"><tr><td>epoch</td><td>▁▂▃▃▄▅▆▆▇█</td></tr><tr><td>train_accuracy</td><td>▁▅▅▆▇▇▆█▇▅</td></tr><tr><td>train_loss</td><td>▁▂▂▃▄▄▅▆▇█</td></tr><tr><td>validation_accuracy</td><td>▁▅▆▇▇█▇▇▇▆</td></tr><tr><td>validation_loss</td><td>▁▂▂▃▄▅▅▆▇█</td></tr></table><br/></div><div class=\"wandb-col\"><h3>Run summary:</h3><br/><table class=\"wandb\"><tr><td>epoch</td><td>10</td></tr><tr><td>train_accuracy</td><td>0.88394</td></tr><tr><td>train_loss</td><td>2.00075</td></tr><tr><td>validation_accuracy</td><td>0.86817</td></tr><tr><td>validation_loss</td><td>2.08824</td></tr></table><br/></div></div>"
            ]
          },
          "metadata": {}
        },
        {
          "output_type": "display_data",
          "data": {
            "text/plain": [
              "<IPython.core.display.HTML object>"
            ],
            "text/html": [
              " View run <strong style=\"color:#cdcd00\">mse_run</strong> at: <a href='https://wandb.ai/clroymustang/cs6910-assignment-1/runs/bxaszo2c' target=\"_blank\">https://wandb.ai/clroymustang/cs6910-assignment-1/runs/bxaszo2c</a><br/>Synced 5 W&B file(s), 0 media file(s), 0 artifact file(s) and 0 other file(s)"
            ]
          },
          "metadata": {}
        },
        {
          "output_type": "display_data",
          "data": {
            "text/plain": [
              "<IPython.core.display.HTML object>"
            ],
            "text/html": [
              "Find logs at: <code>./wandb/run-20230320_133600-bxaszo2c/logs</code>"
            ]
          },
          "metadata": {}
        }
      ]
    },
    {
      "cell_type": "code",
      "source": [
        "file_name = 'model1_mse.pkl'\n",
        "with open(file_name, 'wb') as file:\n",
        "    pickle.dump(network, file)\n",
        "    print(f'Object successfully saved to \"{file_name}\"')"
      ],
      "metadata": {
        "id": "sdVGzeeGcqku",
        "colab": {
          "base_uri": "https://localhost:8080/"
        },
        "outputId": "0d368ab6-89ec-4d80-d2ae-47acccf99079"
      },
      "execution_count": 23,
      "outputs": [
        {
          "output_type": "stream",
          "name": "stdout",
          "text": [
            "Object successfully saved to \"model1_mse.pkl\"\n"
          ]
        }
      ]
    },
    {
      "cell_type": "code",
      "source": [
        "best_params_2['loss_type'] = 'MSE'\n",
        "network = NeuralNetwork(**best_params_2)\n",
        "\n",
        "wandb.init(entity=entity_name,project=project_name, name=\"mse_run\")\n",
        "\n",
        "print('Training process started with '+network.optimizer+' optimizer.')\n",
        "for i in range(0, n_epoch_2):\n",
        "    train_loss,train_acc,test_acc,test_loss = network.epoch(x_train, y_train, x_val, y_val, i)\n",
        "    log_dict = {\"train_loss\":train_loss, \"train_accuracy\":train_acc, \"validation_loss\":test_loss, \"validation_accuracy\":test_acc, \"epoch\":i+1}\n",
        "    wandb.log(log_dict)\n",
        "\n",
        "wandb.run.save()\n",
        "wandb.run.finish()\n",
        "file_name = 'model2_mse.pkl'\n",
        "with open(file_name, 'wb') as file:\n",
        "    pickle.dump(network, file)\n",
        "    print(f'Object successfully saved to \"{file_name}\"')"
      ],
      "metadata": {
        "id": "ra6S0mbEg7YF",
        "colab": {
          "base_uri": "https://localhost:8080/",
          "height": 650,
          "referenced_widgets": [
            "8e83de152abd45da96cecca88bffaab9",
            "6fa8eab19f974c75a323a515b435017c",
            "4a2670d716204c9781cd9b43c50bc0d8",
            "a716e714359f410d826a79c634de8c08",
            "58d50cc3316d464497d300fb19696569",
            "35127ea172fa43489bb5cc831c50ffb6",
            "e6ff350ec9914df0847c70e82fab0d20",
            "5fa5810f09334a8a9c15d057b3a53ec0"
          ]
        },
        "outputId": "fb3bb3f7-75de-4f12-8b90-afc1273fedc6"
      },
      "execution_count": 24,
      "outputs": [
        {
          "output_type": "display_data",
          "data": {
            "text/plain": [
              "<IPython.core.display.HTML object>"
            ],
            "text/html": [
              "Tracking run with wandb version 0.14.0"
            ]
          },
          "metadata": {}
        },
        {
          "output_type": "display_data",
          "data": {
            "text/plain": [
              "<IPython.core.display.HTML object>"
            ],
            "text/html": [
              "Run data is saved locally in <code>/content/wandb/run-20230320_135707-yekonxdf</code>"
            ]
          },
          "metadata": {}
        },
        {
          "output_type": "display_data",
          "data": {
            "text/plain": [
              "<IPython.core.display.HTML object>"
            ],
            "text/html": [
              "Syncing run <strong><a href='https://wandb.ai/clroymustang/cs6910-assignment-1/runs/yekonxdf' target=\"_blank\">mse_run</a></strong> to <a href='https://wandb.ai/clroymustang/cs6910-assignment-1' target=\"_blank\">Weights & Biases</a> (<a href='https://wandb.me/run' target=\"_blank\">docs</a>)<br/>"
            ]
          },
          "metadata": {}
        },
        {
          "output_type": "display_data",
          "data": {
            "text/plain": [
              "<IPython.core.display.HTML object>"
            ],
            "text/html": [
              " View project at <a href='https://wandb.ai/clroymustang/cs6910-assignment-1' target=\"_blank\">https://wandb.ai/clroymustang/cs6910-assignment-1</a>"
            ]
          },
          "metadata": {}
        },
        {
          "output_type": "display_data",
          "data": {
            "text/plain": [
              "<IPython.core.display.HTML object>"
            ],
            "text/html": [
              " View run at <a href='https://wandb.ai/clroymustang/cs6910-assignment-1/runs/yekonxdf' target=\"_blank\">https://wandb.ai/clroymustang/cs6910-assignment-1/runs/yekonxdf</a>"
            ]
          },
          "metadata": {}
        },
        {
          "output_type": "stream",
          "name": "stdout",
          "text": [
            "Training process started with adam optimizer.\n",
            "Epoch 1 completed. Training Loss is 388.4102148345598, training accuracy is 0.846574074074074. The test loss is 398.0686725515725 and the test accuracy is 0.8435.\n",
            "Epoch 2 completed. Training Loss is 406.1759186354132, training accuracy is 0.8597777777777778. The test loss is 412.8542450605822 and the test accuracy is 0.8518333333333333.\n",
            "Epoch 3 completed. Training Loss is 419.702931707343, training accuracy is 0.8675. The test loss is 425.6825543661023 and the test accuracy is 0.8605.\n",
            "Epoch 4 completed. Training Loss is 432.2194102326166, training accuracy is 0.8752777777777778. The test loss is 437.84074456616327 and the test accuracy is 0.8665.\n",
            "Epoch 5 completed. Training Loss is 444.3678006316101, training accuracy is 0.8793703703703704. The test loss is 450.1842431083999 and the test accuracy is 0.8686666666666667.\n",
            "Epoch 6 completed. Training Loss is 457.31011579641495, training accuracy is 0.8821296296296296. The test loss is 463.6629615725242 and the test accuracy is 0.87.\n",
            "Epoch 7 completed. Training Loss is 471.8408423755961, training accuracy is 0.8825. The test loss is 479.00258748439484 and the test accuracy is 0.8698333333333333.\n",
            "Epoch 8 completed. Training Loss is 487.7680288975323, training accuracy is 0.8778333333333334. The test loss is 494.6366240115096 and the test accuracy is 0.8663333333333333.\n",
            "Epoch 9 completed. Training Loss is 503.0472465378786, training accuracy is 0.8816111111111111. The test loss is 510.6243219502192 and the test accuracy is 0.8691666666666666.\n"
          ]
        },
        {
          "output_type": "display_data",
          "data": {
            "text/plain": [
              "<IPython.core.display.HTML object>"
            ],
            "text/html": [
              "Waiting for W&B process to finish... <strong style=\"color:green\">(success).</strong>"
            ]
          },
          "metadata": {}
        },
        {
          "output_type": "display_data",
          "data": {
            "text/plain": [
              "VBox(children=(Label(value='0.001 MB of 0.010 MB uploaded (0.000 MB deduped)\\r'), FloatProgress(value=0.095483…"
            ],
            "application/vnd.jupyter.widget-view+json": {
              "version_major": 2,
              "version_minor": 0,
              "model_id": "8e83de152abd45da96cecca88bffaab9"
            }
          },
          "metadata": {}
        },
        {
          "output_type": "display_data",
          "data": {
            "text/plain": [
              "<IPython.core.display.HTML object>"
            ],
            "text/html": [
              "<style>\n",
              "    table.wandb td:nth-child(1) { padding: 0 10px; text-align: left ; width: auto;} td:nth-child(2) {text-align: left ; width: 100%}\n",
              "    .wandb-row { display: flex; flex-direction: row; flex-wrap: wrap; justify-content: flex-start; width: 100% }\n",
              "    .wandb-col { display: flex; flex-direction: column; flex-basis: 100%; flex: 1; padding: 10px; }\n",
              "    </style>\n",
              "<div class=\"wandb-row\"><div class=\"wandb-col\"><h3>Run history:</h3><br/><table class=\"wandb\"><tr><td>epoch</td><td>▁▂▃▄▅▅▆▇█</td></tr><tr><td>train_accuracy</td><td>▁▄▅▇▇██▇█</td></tr><tr><td>train_loss</td><td>▁▂▃▄▄▅▆▇█</td></tr><tr><td>validation_accuracy</td><td>▁▃▅▇███▇█</td></tr><tr><td>validation_loss</td><td>▁▂▃▃▄▅▆▇█</td></tr></table><br/></div><div class=\"wandb-col\"><h3>Run summary:</h3><br/><table class=\"wandb\"><tr><td>epoch</td><td>9</td></tr><tr><td>train_accuracy</td><td>0.88161</td></tr><tr><td>train_loss</td><td>503.04725</td></tr><tr><td>validation_accuracy</td><td>0.86917</td></tr><tr><td>validation_loss</td><td>510.62432</td></tr></table><br/></div></div>"
            ]
          },
          "metadata": {}
        },
        {
          "output_type": "display_data",
          "data": {
            "text/plain": [
              "<IPython.core.display.HTML object>"
            ],
            "text/html": [
              " View run <strong style=\"color:#cdcd00\">mse_run</strong> at: <a href='https://wandb.ai/clroymustang/cs6910-assignment-1/runs/yekonxdf' target=\"_blank\">https://wandb.ai/clroymustang/cs6910-assignment-1/runs/yekonxdf</a><br/>Synced 5 W&B file(s), 0 media file(s), 0 artifact file(s) and 0 other file(s)"
            ]
          },
          "metadata": {}
        },
        {
          "output_type": "display_data",
          "data": {
            "text/plain": [
              "<IPython.core.display.HTML object>"
            ],
            "text/html": [
              "Find logs at: <code>./wandb/run-20230320_135707-yekonxdf/logs</code>"
            ]
          },
          "metadata": {}
        },
        {
          "output_type": "stream",
          "name": "stdout",
          "text": [
            "Object successfully saved to \"model2_mse.pkl\"\n"
          ]
        }
      ]
    },
    {
      "cell_type": "code",
      "source": [
        "best_params_3['loss_type'] = 'MSE'\n",
        "network = NeuralNetwork(**best_params_3)\n",
        "\n",
        "wandb.init(entity=entity_name,project=project_name, name=\"mse_run\")\n",
        "\n",
        "print('Training process started with '+network.optimizer+' optimizer.')\n",
        "for i in range(0, n_epoch_3):\n",
        "    train_loss,train_acc,test_acc,test_loss = network.epoch(x_train, y_train, x_val, y_val, i)\n",
        "    log_dict = {\"train_loss\":train_loss, \"train_accuracy\":train_acc, \"validation_loss\":test_loss, \"validation_accuracy\":test_acc, \"epoch\":i+1}\n",
        "    wandb.log(log_dict)\n",
        "\n",
        "wandb.run.save()\n",
        "wandb.run.finish()\n",
        "file_name = 'model3_mse.pkl'\n",
        "with open(file_name, 'wb') as file:\n",
        "    pickle.dump(network, file)\n",
        "    print(f'Object successfully saved to \"{file_name}\"')"
      ],
      "metadata": {
        "colab": {
          "base_uri": "https://localhost:8080/",
          "height": 568
        },
        "id": "LPTyjcM9-2Ir",
        "outputId": "5a4c9fc0-d47b-419d-a80e-425e84e204a2"
      },
      "execution_count": 25,
      "outputs": [
        {
          "output_type": "display_data",
          "data": {
            "text/plain": [
              "<IPython.core.display.HTML object>"
            ],
            "text/html": [
              "Tracking run with wandb version 0.14.0"
            ]
          },
          "metadata": {}
        },
        {
          "output_type": "display_data",
          "data": {
            "text/plain": [
              "<IPython.core.display.HTML object>"
            ],
            "text/html": [
              "Run data is saved locally in <code>/content/wandb/run-20230320_141902-7eley1pp</code>"
            ]
          },
          "metadata": {}
        },
        {
          "output_type": "display_data",
          "data": {
            "text/plain": [
              "<IPython.core.display.HTML object>"
            ],
            "text/html": [
              "Syncing run <strong><a href='https://wandb.ai/clroymustang/cs6910-assignment-1/runs/7eley1pp' target=\"_blank\">mse_run</a></strong> to <a href='https://wandb.ai/clroymustang/cs6910-assignment-1' target=\"_blank\">Weights & Biases</a> (<a href='https://wandb.me/run' target=\"_blank\">docs</a>)<br/>"
            ]
          },
          "metadata": {}
        },
        {
          "output_type": "display_data",
          "data": {
            "text/plain": [
              "<IPython.core.display.HTML object>"
            ],
            "text/html": [
              " View project at <a href='https://wandb.ai/clroymustang/cs6910-assignment-1' target=\"_blank\">https://wandb.ai/clroymustang/cs6910-assignment-1</a>"
            ]
          },
          "metadata": {}
        },
        {
          "output_type": "display_data",
          "data": {
            "text/plain": [
              "<IPython.core.display.HTML object>"
            ],
            "text/html": [
              " View run at <a href='https://wandb.ai/clroymustang/cs6910-assignment-1/runs/7eley1pp' target=\"_blank\">https://wandb.ai/clroymustang/cs6910-assignment-1/runs/7eley1pp</a>"
            ]
          },
          "metadata": {}
        },
        {
          "output_type": "stream",
          "name": "stdout",
          "text": [
            "Training process started with nadam optimizer.\n"
          ]
        },
        {
          "output_type": "stream",
          "name": "stderr",
          "text": [
            "<ipython-input-8-bc3f486ea7f2>:120: RuntimeWarning: overflow encountered in exp\n",
            "  out = [np.exp(x) for x in output]\n",
            "<ipython-input-8-bc3f486ea7f2>:121: RuntimeWarning: invalid value encountered in true_divide\n",
            "  out = out/np.sum((out))\n"
          ]
        },
        {
          "output_type": "stream",
          "name": "stdout",
          "text": [
            "Epoch 1 completed. Training Loss is nan, training accuracy is 0.10048148148148148. The test loss is nan and the test accuracy is 0.09566666666666666.\n",
            "Epoch 2 completed. Training Loss is nan, training accuracy is 0.10048148148148148. The test loss is nan and the test accuracy is 0.09566666666666666.\n",
            "Epoch 3 completed. Training Loss is nan, training accuracy is 0.10048148148148148. The test loss is nan and the test accuracy is 0.09566666666666666.\n",
            "Epoch 4 completed. Training Loss is nan, training accuracy is 0.10048148148148148. The test loss is nan and the test accuracy is 0.09566666666666666.\n"
          ]
        },
        {
          "output_type": "display_data",
          "data": {
            "text/plain": [
              "<IPython.core.display.HTML object>"
            ],
            "text/html": [
              "Waiting for W&B process to finish... <strong style=\"color:green\">(success).</strong>"
            ]
          },
          "metadata": {}
        },
        {
          "output_type": "display_data",
          "data": {
            "text/plain": [
              "<IPython.core.display.HTML object>"
            ],
            "text/html": [
              "<style>\n",
              "    table.wandb td:nth-child(1) { padding: 0 10px; text-align: left ; width: auto;} td:nth-child(2) {text-align: left ; width: 100%}\n",
              "    .wandb-row { display: flex; flex-direction: row; flex-wrap: wrap; justify-content: flex-start; width: 100% }\n",
              "    .wandb-col { display: flex; flex-direction: column; flex-basis: 100%; flex: 1; padding: 10px; }\n",
              "    </style>\n",
              "<div class=\"wandb-row\"><div class=\"wandb-col\"><h3>Run history:</h3><br/><table class=\"wandb\"><tr><td>epoch</td><td>▁▃▆█</td></tr><tr><td>train_accuracy</td><td>▁▁▁▁</td></tr><tr><td>validation_accuracy</td><td>▁▁▁▁</td></tr></table><br/></div><div class=\"wandb-col\"><h3>Run summary:</h3><br/><table class=\"wandb\"><tr><td>epoch</td><td>4</td></tr><tr><td>train_accuracy</td><td>0.10048</td></tr><tr><td>train_loss</td><td>nan</td></tr><tr><td>validation_accuracy</td><td>0.09567</td></tr><tr><td>validation_loss</td><td>nan</td></tr></table><br/></div></div>"
            ]
          },
          "metadata": {}
        },
        {
          "output_type": "display_data",
          "data": {
            "text/plain": [
              "<IPython.core.display.HTML object>"
            ],
            "text/html": [
              " View run <strong style=\"color:#cdcd00\">mse_run</strong> at: <a href='https://wandb.ai/clroymustang/cs6910-assignment-1/runs/7eley1pp' target=\"_blank\">https://wandb.ai/clroymustang/cs6910-assignment-1/runs/7eley1pp</a><br/>Synced 5 W&B file(s), 0 media file(s), 0 artifact file(s) and 0 other file(s)"
            ]
          },
          "metadata": {}
        },
        {
          "output_type": "display_data",
          "data": {
            "text/plain": [
              "<IPython.core.display.HTML object>"
            ],
            "text/html": [
              "Find logs at: <code>./wandb/run-20230320_141902-7eley1pp/logs</code>"
            ]
          },
          "metadata": {}
        },
        {
          "output_type": "stream",
          "name": "stdout",
          "text": [
            "Object successfully saved to \"model3_mse.pkl\"\n"
          ]
        }
      ]
    },
    {
      "cell_type": "markdown",
      "source": [
        "Now, calculating the test accuracies"
      ],
      "metadata": {
        "id": "TdWg8dq4Mpi7"
      }
    },
    {
      "cell_type": "code",
      "source": [
        "with open('model1_mse.pkl', 'rb') as f:\n",
        "    model = pickle.load(f)\n",
        "\n",
        "accuracy = model.inference(x_test, y_test, loss_flag = False)\n",
        "print(accuracy)"
      ],
      "metadata": {
        "colab": {
          "base_uri": "https://localhost:8080/"
        },
        "id": "kHE9ESfI-97-",
        "outputId": "91a420e1-fce7-4d28-c1f0-e9536cdbebb5"
      },
      "execution_count": 26,
      "outputs": [
        {
          "output_type": "stream",
          "name": "stdout",
          "text": [
            "0.8528\n"
          ]
        }
      ]
    },
    {
      "cell_type": "code",
      "source": [
        "with open('model2_mse.pkl', 'rb') as f:\n",
        "    model = pickle.load(f)\n",
        "\n",
        "accuracy = model.inference(x_test, y_test, loss_flag = False)\n",
        "print(accuracy)"
      ],
      "metadata": {
        "colab": {
          "base_uri": "https://localhost:8080/"
        },
        "id": "AKgfd8FtM3RO",
        "outputId": "53619152-b2a1-4a83-d698-c7bb3203128a"
      },
      "execution_count": 27,
      "outputs": [
        {
          "output_type": "stream",
          "name": "stdout",
          "text": [
            "0.861\n"
          ]
        }
      ]
    },
    {
      "cell_type": "code",
      "source": [
        "with open('model3_mse.pkl', 'rb') as f:\n",
        "    model = pickle.load(f)\n",
        "\n",
        "accuracy = model.inference(x_test, y_test, loss_flag = False)\n",
        "print(accuracy)"
      ],
      "metadata": {
        "colab": {
          "base_uri": "https://localhost:8080/"
        },
        "id": "aPBtuMz1M5GU",
        "outputId": "8a879deb-ba74-4ec8-87b3-dcd18a20e8b1"
      },
      "execution_count": 28,
      "outputs": [
        {
          "output_type": "stream",
          "name": "stdout",
          "text": [
            "0.1\n"
          ]
        }
      ]
    },
    {
      "cell_type": "markdown",
      "source": [
        "#Question 10: Performance on MNIST"
      ],
      "metadata": {
        "id": "V-qkTqD5ex-N"
      }
    },
    {
      "cell_type": "code",
      "source": [
        "from keras.datasets import mnist"
      ],
      "metadata": {
        "id": "QX8x8PqtoF_q"
      },
      "execution_count": 10,
      "outputs": []
    },
    {
      "cell_type": "code",
      "execution_count": 11,
      "metadata": {
        "id": "1IkP9Lr8n9Ae"
      },
      "outputs": [],
      "source": [
        "best_params_1 = {\n",
        "  'n_hidden':3, 'hl_size': 128, 'batch_size':32, 'weight_init':'Xavier', 'activation_fn':'tanh', \\\n",
        " 'optimizer':'nadam', 'lamda':0.0005, 'lr':0.001\n",
        "}\n",
        "\n",
        "n_epoch_1 = 10"
      ]
    },
    {
      "cell_type": "code",
      "source": [
        "best_params_2 = {\n",
        "  'n_hidden':5, 'hl_size': 128, 'batch_size':32, 'weight_init':'Xavier', 'activation_fn':'tanh', \\\n",
        " 'optimizer':'adam', 'lamda':0.5, 'lr':0.0001\n",
        "}\n",
        "\n",
        "n_epoch_2 = 9"
      ],
      "metadata": {
        "id": "XxSTxQvPn9Af"
      },
      "execution_count": 12,
      "outputs": []
    },
    {
      "cell_type": "code",
      "source": [
        "best_params_3 = {\n",
        "  'n_hidden':3, 'hl_size': 128, 'batch_size':64, 'weight_init':'Xavier', 'activation_fn':'ReLU', \\\n",
        " 'optimizer':'nadam', 'lamda':0.5, 'lr':0.001\n",
        "}\n",
        "\n",
        "n_epoch_3 = 4"
      ],
      "metadata": {
        "id": "pb_794qNn9Af"
      },
      "execution_count": 13,
      "outputs": []
    },
    {
      "cell_type": "code",
      "source": [
        "(trainX, trainy), (testX, testy) = mnist.load_data()\n",
        "\n",
        "trainX = trainX/255\n",
        "testX = testX/255\n",
        "\n",
        "trainX, valX, trainy, valy = train_test_split(trainX, trainy, test_size=0.1, random_state=40)\n",
        "\n",
        "#Add code to flatten images\n",
        "x_train = []\n",
        "x_test = []\n",
        "x_val = []\n",
        "for i in range(0, len(trainX)):\n",
        "  x_train.append(trainX[i,:,:].flatten())\n",
        "for i in range(0, len(testX)):\n",
        "  x_test.append(testX[i,:,:].flatten())\n",
        "for i in range(0, len(valX)):\n",
        "  x_val.append(valX[i,:,:].flatten())\n",
        "\n",
        "y_train = to_categorical(trainy)\n",
        "y_test = to_categorical(testy)\n",
        "y_val = to_categorical(valy)"
      ],
      "metadata": {
        "id": "IOfAjYbQoM3g"
      },
      "execution_count": 14,
      "outputs": []
    },
    {
      "cell_type": "code",
      "source": [
        "network = NeuralNetwork(**best_params_1)\n",
        "\n",
        "wandb.init(entity=entity_name,project=project_name, name=\"mnist\")\n",
        "\n",
        "print('Training process started with '+network.optimizer+' optimizer.')\n",
        "for i in range(0, n_epoch_1):\n",
        "    train_loss,train_acc,test_acc,test_loss = network.epoch(x_train, y_train, x_val, y_val, i)\n",
        "    log_dict = {\"train_loss\":train_loss, \"train_accuracy\":train_acc, \"validation_loss\":test_loss, \"validation_accuracy\":test_acc, \"epoch\":i+1}\n",
        "    wandb.log(log_dict)\n",
        "\n",
        "wandb.run.save()\n",
        "wandb.run.finish()\n"
      ],
      "metadata": {
        "id": "ltU71e-MoWbL"
      },
      "execution_count": null,
      "outputs": []
    },
    {
      "cell_type": "code",
      "source": [
        "accuracy = network.inference(x_test, y_test, loss_flag = False)\n",
        "print(accuracy)"
      ],
      "metadata": {
        "colab": {
          "base_uri": "https://localhost:8080/"
        },
        "id": "65NpeqIewiUx",
        "outputId": "ebd708f2-4504-48fc-c6f7-c8c4a0444dda"
      },
      "execution_count": 16,
      "outputs": [
        {
          "output_type": "stream",
          "name": "stdout",
          "text": [
            "0.9089\n"
          ]
        }
      ]
    },
    {
      "cell_type": "code",
      "source": [
        "network = NeuralNetwork(**best_params_2)\n",
        "\n",
        "wandb.init(entity=entity_name,project=project_name, name=\"mnist\")\n",
        "\n",
        "print('Training process started with '+network.optimizer+' optimizer.')\n",
        "for i in range(0, n_epoch_2):\n",
        "    train_loss,train_acc,test_acc,test_loss = network.epoch(x_train, y_train, x_val, y_val, i)\n",
        "    log_dict = {\"train_loss\":train_loss, \"train_accuracy\":train_acc, \"validation_loss\":test_loss, \"validation_accuracy\":test_acc, \"epoch\":i+1}\n",
        "    wandb.log(log_dict)\n",
        "\n",
        "wandb.run.save()\n",
        "wandb.run.finish()\n",
        "\n",
        "accuracy = network.inference(x_test, y_test, loss_flag = False)\n",
        "print(accuracy)"
      ],
      "metadata": {
        "colab": {
          "base_uri": "https://localhost:8080/",
          "height": 650,
          "referenced_widgets": [
            "698c430c665d4a31beee5595063c634b",
            "04ce980dfb244f2c851ca02b028e0683",
            "db5345ea41df4be4a17db27f1420f7d0",
            "2690ec35efff4f509bcfcd170e9d2b03",
            "da87426128fa4bd48a754170a2306a0b",
            "82b24e2fc2874b3bb726f0869e360b47",
            "1671f5317f1d48c292f16c750378487c",
            "22f507664f584d409a74e7d439eaacff"
          ]
        },
        "id": "RUxGkGr4opnv",
        "outputId": "16f4568f-585d-43e8-bc0b-d7d6510ff592"
      },
      "execution_count": 17,
      "outputs": [
        {
          "output_type": "display_data",
          "data": {
            "text/plain": [
              "<IPython.core.display.HTML object>"
            ],
            "text/html": [
              "Tracking run with wandb version 0.14.0"
            ]
          },
          "metadata": {}
        },
        {
          "output_type": "display_data",
          "data": {
            "text/plain": [
              "<IPython.core.display.HTML object>"
            ],
            "text/html": [
              "Run data is saved locally in <code>/content/wandb/run-20230320_160304-knr0w69s</code>"
            ]
          },
          "metadata": {}
        },
        {
          "output_type": "display_data",
          "data": {
            "text/plain": [
              "<IPython.core.display.HTML object>"
            ],
            "text/html": [
              "Syncing run <strong><a href='https://wandb.ai/clroymustang/cs6910-assignment-1/runs/knr0w69s' target=\"_blank\">mnist</a></strong> to <a href='https://wandb.ai/clroymustang/cs6910-assignment-1' target=\"_blank\">Weights & Biases</a> (<a href='https://wandb.me/run' target=\"_blank\">docs</a>)<br/>"
            ]
          },
          "metadata": {}
        },
        {
          "output_type": "display_data",
          "data": {
            "text/plain": [
              "<IPython.core.display.HTML object>"
            ],
            "text/html": [
              " View project at <a href='https://wandb.ai/clroymustang/cs6910-assignment-1' target=\"_blank\">https://wandb.ai/clroymustang/cs6910-assignment-1</a>"
            ]
          },
          "metadata": {}
        },
        {
          "output_type": "display_data",
          "data": {
            "text/plain": [
              "<IPython.core.display.HTML object>"
            ],
            "text/html": [
              " View run at <a href='https://wandb.ai/clroymustang/cs6910-assignment-1/runs/knr0w69s' target=\"_blank\">https://wandb.ai/clroymustang/cs6910-assignment-1/runs/knr0w69s</a>"
            ]
          },
          "metadata": {}
        },
        {
          "output_type": "stream",
          "name": "stdout",
          "text": [
            "Training process started with adam optimizer.\n",
            "Epoch 1 completed. Training Loss is 394.4610840091062, training accuracy is 0.9241666666666667. The test loss is 412.6984869447997 and the test accuracy is 0.9233333333333333.\n",
            "Epoch 2 completed. Training Loss is 429.6742041281212, training accuracy is 0.9399444444444445. The test loss is 445.3256568049343 and the test accuracy is 0.9395.\n",
            "Epoch 3 completed. Training Loss is 461.3371847358936, training accuracy is 0.9502037037037037. The test loss is 478.1958147810569 and the test accuracy is 0.9445.\n",
            "Epoch 4 completed. Training Loss is 497.3292743107647, training accuracy is 0.9554814814814815. The test loss is 517.9740933079646 and the test accuracy is 0.949.\n",
            "Epoch 5 completed. Training Loss is 541.2993340802642, training accuracy is 0.9610925925925926. The test loss is 566.7266911932867 and the test accuracy is 0.9536666666666667.\n",
            "Epoch 6 completed. Training Loss is 594.1697378533157, training accuracy is 0.9654814814814815. The test loss is 623.536439070632 and the test accuracy is 0.958.\n",
            "Epoch 7 completed. Training Loss is 657.1818312603336, training accuracy is 0.9688703703703704. The test loss is 693.2835242435024 and the test accuracy is 0.96.\n",
            "Epoch 8 completed. Training Loss is 734.5047222860908, training accuracy is 0.9717407407407408. The test loss is 778.8086301694846 and the test accuracy is 0.9645.\n",
            "Epoch 9 completed. Training Loss is 828.197689098084, training accuracy is 0.9343518518518519. The test loss is 880.6102375313495 and the test accuracy is 0.928.\n"
          ]
        },
        {
          "output_type": "display_data",
          "data": {
            "text/plain": [
              "<IPython.core.display.HTML object>"
            ],
            "text/html": [
              "Waiting for W&B process to finish... <strong style=\"color:green\">(success).</strong>"
            ]
          },
          "metadata": {}
        },
        {
          "output_type": "display_data",
          "data": {
            "text/plain": [
              "VBox(children=(Label(value='0.009 MB of 0.010 MB uploaded (0.000 MB deduped)\\r'), FloatProgress(value=0.930690…"
            ],
            "application/vnd.jupyter.widget-view+json": {
              "version_major": 2,
              "version_minor": 0,
              "model_id": "698c430c665d4a31beee5595063c634b"
            }
          },
          "metadata": {}
        },
        {
          "output_type": "display_data",
          "data": {
            "text/plain": [
              "<IPython.core.display.HTML object>"
            ],
            "text/html": [
              "<style>\n",
              "    table.wandb td:nth-child(1) { padding: 0 10px; text-align: left ; width: auto;} td:nth-child(2) {text-align: left ; width: 100%}\n",
              "    .wandb-row { display: flex; flex-direction: row; flex-wrap: wrap; justify-content: flex-start; width: 100% }\n",
              "    .wandb-col { display: flex; flex-direction: column; flex-basis: 100%; flex: 1; padding: 10px; }\n",
              "    </style>\n",
              "<div class=\"wandb-row\"><div class=\"wandb-col\"><h3>Run history:</h3><br/><table class=\"wandb\"><tr><td>epoch</td><td>▁▂▃▄▅▅▆▇█</td></tr><tr><td>train_accuracy</td><td>▁▃▅▆▆▇██▂</td></tr><tr><td>train_loss</td><td>▁▂▂▃▃▄▅▆█</td></tr><tr><td>validation_accuracy</td><td>▁▄▅▅▆▇▇█▂</td></tr><tr><td>validation_loss</td><td>▁▁▂▃▃▄▅▆█</td></tr></table><br/></div><div class=\"wandb-col\"><h3>Run summary:</h3><br/><table class=\"wandb\"><tr><td>epoch</td><td>9</td></tr><tr><td>train_accuracy</td><td>0.93435</td></tr><tr><td>train_loss</td><td>828.19769</td></tr><tr><td>validation_accuracy</td><td>0.928</td></tr><tr><td>validation_loss</td><td>880.61024</td></tr></table><br/></div></div>"
            ]
          },
          "metadata": {}
        },
        {
          "output_type": "display_data",
          "data": {
            "text/plain": [
              "<IPython.core.display.HTML object>"
            ],
            "text/html": [
              " View run <strong style=\"color:#cdcd00\">mnist</strong> at: <a href='https://wandb.ai/clroymustang/cs6910-assignment-1/runs/knr0w69s' target=\"_blank\">https://wandb.ai/clroymustang/cs6910-assignment-1/runs/knr0w69s</a><br/>Synced 5 W&B file(s), 0 media file(s), 0 artifact file(s) and 0 other file(s)"
            ]
          },
          "metadata": {}
        },
        {
          "output_type": "display_data",
          "data": {
            "text/plain": [
              "<IPython.core.display.HTML object>"
            ],
            "text/html": [
              "Find logs at: <code>./wandb/run-20230320_160304-knr0w69s/logs</code>"
            ]
          },
          "metadata": {}
        },
        {
          "output_type": "stream",
          "name": "stdout",
          "text": [
            "0.9282\n"
          ]
        }
      ]
    },
    {
      "cell_type": "code",
      "source": [
        "network = NeuralNetwork(**best_params_3)\n",
        "\n",
        "wandb.init(entity=entity_name,project=project_name, name=\"mnist\")\n",
        "\n",
        "print('Training process started with '+network.optimizer+' optimizer.')\n",
        "for i in range(0, n_epoch_3):\n",
        "    train_loss,train_acc,test_acc,test_loss = network.epoch(x_train, y_train, x_val, y_val, i)\n",
        "    log_dict = {\"train_loss\":train_loss, \"train_accuracy\":train_acc, \"validation_loss\":test_loss, \"validation_accuracy\":test_acc, \"epoch\":i+1}\n",
        "    wandb.log(log_dict)\n",
        "\n",
        "wandb.run.save()\n",
        "wandb.run.finish()\n",
        "\n",
        "accuracy = network.inference(x_test, y_test, loss_flag = False)\n",
        "print(accuracy)"
      ],
      "metadata": {
        "colab": {
          "base_uri": "https://localhost:8080/",
          "height": 563,
          "referenced_widgets": [
            "01d440627fcf4af5ad6e85a55368f302",
            "35c9cbf1407449bab736b73dedcfb034",
            "7506360816fa4bce8bf5a2150343a921",
            "247ee18cc22d46b7a030c1b4a3ff211a",
            "97e2a3face8348b09450db6b39f1422f",
            "7cb241fcdfb24227b94395c9a26be5f3",
            "fe3c0f13da4b429f85a93bf8fa52ab98",
            "96a9870f9c7949029733dfac7c98081e"
          ]
        },
        "id": "fWKeEGT1owxD",
        "outputId": "69c2d9c8-5210-45d2-836a-fdcee8bd8d9e"
      },
      "execution_count": 18,
      "outputs": [
        {
          "output_type": "display_data",
          "data": {
            "text/plain": [
              "<IPython.core.display.HTML object>"
            ],
            "text/html": [
              "Tracking run with wandb version 0.14.0"
            ]
          },
          "metadata": {}
        },
        {
          "output_type": "display_data",
          "data": {
            "text/plain": [
              "<IPython.core.display.HTML object>"
            ],
            "text/html": [
              "Run data is saved locally in <code>/content/wandb/run-20230320_162440-laiagoov</code>"
            ]
          },
          "metadata": {}
        },
        {
          "output_type": "display_data",
          "data": {
            "text/plain": [
              "<IPython.core.display.HTML object>"
            ],
            "text/html": [
              "Syncing run <strong><a href='https://wandb.ai/clroymustang/cs6910-assignment-1/runs/laiagoov' target=\"_blank\">mnist</a></strong> to <a href='https://wandb.ai/clroymustang/cs6910-assignment-1' target=\"_blank\">Weights & Biases</a> (<a href='https://wandb.me/run' target=\"_blank\">docs</a>)<br/>"
            ]
          },
          "metadata": {}
        },
        {
          "output_type": "display_data",
          "data": {
            "text/plain": [
              "<IPython.core.display.HTML object>"
            ],
            "text/html": [
              " View project at <a href='https://wandb.ai/clroymustang/cs6910-assignment-1' target=\"_blank\">https://wandb.ai/clroymustang/cs6910-assignment-1</a>"
            ]
          },
          "metadata": {}
        },
        {
          "output_type": "display_data",
          "data": {
            "text/plain": [
              "<IPython.core.display.HTML object>"
            ],
            "text/html": [
              " View run at <a href='https://wandb.ai/clroymustang/cs6910-assignment-1/runs/laiagoov' target=\"_blank\">https://wandb.ai/clroymustang/cs6910-assignment-1/runs/laiagoov</a>"
            ]
          },
          "metadata": {}
        },
        {
          "output_type": "stream",
          "name": "stdout",
          "text": [
            "Training process started with nadam optimizer.\n",
            "Epoch 1 completed. Training Loss is 307.53931456510884, training accuracy is 0.9532962962962963. The test loss is 347.83595211427735 and the test accuracy is 0.9463333333333334.\n",
            "Epoch 2 completed. Training Loss is 375.99810516210545, training accuracy is 0.969574074074074. The test loss is 403.6359163773243 and the test accuracy is 0.9636666666666667.\n",
            "Epoch 3 completed. Training Loss is 430.1609596452648, training accuracy is 0.9759629629629629. The test loss is 456.6191501593664 and the test accuracy is 0.967.\n",
            "Epoch 4 completed. Training Loss is 482.9046989751893, training accuracy is 0.9798888888888889. The test loss is 507.03106463363446 and the test accuracy is 0.9668333333333333.\n"
          ]
        },
        {
          "output_type": "display_data",
          "data": {
            "text/plain": [
              "<IPython.core.display.HTML object>"
            ],
            "text/html": [
              "Waiting for W&B process to finish... <strong style=\"color:green\">(success).</strong>"
            ]
          },
          "metadata": {}
        },
        {
          "output_type": "display_data",
          "data": {
            "text/plain": [
              "VBox(children=(Label(value='0.001 MB of 0.001 MB uploaded (0.000 MB deduped)\\r'), FloatProgress(value=1.0, max…"
            ],
            "application/vnd.jupyter.widget-view+json": {
              "version_major": 2,
              "version_minor": 0,
              "model_id": "01d440627fcf4af5ad6e85a55368f302"
            }
          },
          "metadata": {}
        },
        {
          "output_type": "display_data",
          "data": {
            "text/plain": [
              "<IPython.core.display.HTML object>"
            ],
            "text/html": [
              "<style>\n",
              "    table.wandb td:nth-child(1) { padding: 0 10px; text-align: left ; width: auto;} td:nth-child(2) {text-align: left ; width: 100%}\n",
              "    .wandb-row { display: flex; flex-direction: row; flex-wrap: wrap; justify-content: flex-start; width: 100% }\n",
              "    .wandb-col { display: flex; flex-direction: column; flex-basis: 100%; flex: 1; padding: 10px; }\n",
              "    </style>\n",
              "<div class=\"wandb-row\"><div class=\"wandb-col\"><h3>Run history:</h3><br/><table class=\"wandb\"><tr><td>epoch</td><td>▁▃▆█</td></tr><tr><td>train_accuracy</td><td>▁▅▇█</td></tr><tr><td>train_loss</td><td>▁▄▆█</td></tr><tr><td>validation_accuracy</td><td>▁▇██</td></tr><tr><td>validation_loss</td><td>▁▃▆█</td></tr></table><br/></div><div class=\"wandb-col\"><h3>Run summary:</h3><br/><table class=\"wandb\"><tr><td>epoch</td><td>4</td></tr><tr><td>train_accuracy</td><td>0.97989</td></tr><tr><td>train_loss</td><td>482.9047</td></tr><tr><td>validation_accuracy</td><td>0.96683</td></tr><tr><td>validation_loss</td><td>507.03106</td></tr></table><br/></div></div>"
            ]
          },
          "metadata": {}
        },
        {
          "output_type": "display_data",
          "data": {
            "text/plain": [
              "<IPython.core.display.HTML object>"
            ],
            "text/html": [
              " View run <strong style=\"color:#cdcd00\">mnist</strong> at: <a href='https://wandb.ai/clroymustang/cs6910-assignment-1/runs/laiagoov' target=\"_blank\">https://wandb.ai/clroymustang/cs6910-assignment-1/runs/laiagoov</a><br/>Synced 5 W&B file(s), 0 media file(s), 0 artifact file(s) and 0 other file(s)"
            ]
          },
          "metadata": {}
        },
        {
          "output_type": "display_data",
          "data": {
            "text/plain": [
              "<IPython.core.display.HTML object>"
            ],
            "text/html": [
              "Find logs at: <code>./wandb/run-20230320_162440-laiagoov/logs</code>"
            ]
          },
          "metadata": {}
        },
        {
          "output_type": "stream",
          "name": "stdout",
          "text": [
            "0.9687\n"
          ]
        }
      ]
    },
    {
      "cell_type": "code",
      "source": [],
      "metadata": {
        "id": "njpwt-THo-b3"
      },
      "execution_count": null,
      "outputs": []
    }
  ],
  "metadata": {
    "colab": {
      "provenance": []
    },
    "kernelspec": {
      "display_name": "Python 3",
      "name": "python3"
    },
    "language_info": {
      "name": "python"
    },
    "widgets": {
      "application/vnd.jupyter.widget-state+json": {
        "5cc52f653c2c46bca35e96bb90dc5664": {
          "model_module": "@jupyter-widgets/controls",
          "model_name": "VBoxModel",
          "model_module_version": "1.5.0",
          "state": {
            "_dom_classes": [],
            "_model_module": "@jupyter-widgets/controls",
            "_model_module_version": "1.5.0",
            "_model_name": "VBoxModel",
            "_view_count": null,
            "_view_module": "@jupyter-widgets/controls",
            "_view_module_version": "1.5.0",
            "_view_name": "VBoxView",
            "box_style": "",
            "children": [
              "IPY_MODEL_e317120848e4402db670d2392aca0b26",
              "IPY_MODEL_262d3d516fa74d5bb912ca0e929e9ca1"
            ],
            "layout": "IPY_MODEL_b208cb5e3476444dbe1373a913662725"
          }
        },
        "e317120848e4402db670d2392aca0b26": {
          "model_module": "@jupyter-widgets/controls",
          "model_name": "LabelModel",
          "model_module_version": "1.5.0",
          "state": {
            "_dom_classes": [],
            "_model_module": "@jupyter-widgets/controls",
            "_model_module_version": "1.5.0",
            "_model_name": "LabelModel",
            "_view_count": null,
            "_view_module": "@jupyter-widgets/controls",
            "_view_module_version": "1.5.0",
            "_view_name": "LabelView",
            "description": "",
            "description_tooltip": null,
            "layout": "IPY_MODEL_22fb376b8b1843d0bd4b9ae7d19800b0",
            "placeholder": "​",
            "style": "IPY_MODEL_ea3e1a61f5964d709647bb4b24141e0f",
            "value": "0.012 MB of 0.014 MB uploaded (0.000 MB deduped)\r"
          }
        },
        "262d3d516fa74d5bb912ca0e929e9ca1": {
          "model_module": "@jupyter-widgets/controls",
          "model_name": "FloatProgressModel",
          "model_module_version": "1.5.0",
          "state": {
            "_dom_classes": [],
            "_model_module": "@jupyter-widgets/controls",
            "_model_module_version": "1.5.0",
            "_model_name": "FloatProgressModel",
            "_view_count": null,
            "_view_module": "@jupyter-widgets/controls",
            "_view_module_version": "1.5.0",
            "_view_name": "ProgressView",
            "bar_style": "",
            "description": "",
            "description_tooltip": null,
            "layout": "IPY_MODEL_2ac7b8e9b51548a69edb9892b806f56a",
            "max": 1,
            "min": 0,
            "orientation": "horizontal",
            "style": "IPY_MODEL_b9ad0d0361c94d0393472166ed355863",
            "value": 0.8696148168031137
          }
        },
        "b208cb5e3476444dbe1373a913662725": {
          "model_module": "@jupyter-widgets/base",
          "model_name": "LayoutModel",
          "model_module_version": "1.2.0",
          "state": {
            "_model_module": "@jupyter-widgets/base",
            "_model_module_version": "1.2.0",
            "_model_name": "LayoutModel",
            "_view_count": null,
            "_view_module": "@jupyter-widgets/base",
            "_view_module_version": "1.2.0",
            "_view_name": "LayoutView",
            "align_content": null,
            "align_items": null,
            "align_self": null,
            "border": null,
            "bottom": null,
            "display": null,
            "flex": null,
            "flex_flow": null,
            "grid_area": null,
            "grid_auto_columns": null,
            "grid_auto_flow": null,
            "grid_auto_rows": null,
            "grid_column": null,
            "grid_gap": null,
            "grid_row": null,
            "grid_template_areas": null,
            "grid_template_columns": null,
            "grid_template_rows": null,
            "height": null,
            "justify_content": null,
            "justify_items": null,
            "left": null,
            "margin": null,
            "max_height": null,
            "max_width": null,
            "min_height": null,
            "min_width": null,
            "object_fit": null,
            "object_position": null,
            "order": null,
            "overflow": null,
            "overflow_x": null,
            "overflow_y": null,
            "padding": null,
            "right": null,
            "top": null,
            "visibility": null,
            "width": null
          }
        },
        "22fb376b8b1843d0bd4b9ae7d19800b0": {
          "model_module": "@jupyter-widgets/base",
          "model_name": "LayoutModel",
          "model_module_version": "1.2.0",
          "state": {
            "_model_module": "@jupyter-widgets/base",
            "_model_module_version": "1.2.0",
            "_model_name": "LayoutModel",
            "_view_count": null,
            "_view_module": "@jupyter-widgets/base",
            "_view_module_version": "1.2.0",
            "_view_name": "LayoutView",
            "align_content": null,
            "align_items": null,
            "align_self": null,
            "border": null,
            "bottom": null,
            "display": null,
            "flex": null,
            "flex_flow": null,
            "grid_area": null,
            "grid_auto_columns": null,
            "grid_auto_flow": null,
            "grid_auto_rows": null,
            "grid_column": null,
            "grid_gap": null,
            "grid_row": null,
            "grid_template_areas": null,
            "grid_template_columns": null,
            "grid_template_rows": null,
            "height": null,
            "justify_content": null,
            "justify_items": null,
            "left": null,
            "margin": null,
            "max_height": null,
            "max_width": null,
            "min_height": null,
            "min_width": null,
            "object_fit": null,
            "object_position": null,
            "order": null,
            "overflow": null,
            "overflow_x": null,
            "overflow_y": null,
            "padding": null,
            "right": null,
            "top": null,
            "visibility": null,
            "width": null
          }
        },
        "ea3e1a61f5964d709647bb4b24141e0f": {
          "model_module": "@jupyter-widgets/controls",
          "model_name": "DescriptionStyleModel",
          "model_module_version": "1.5.0",
          "state": {
            "_model_module": "@jupyter-widgets/controls",
            "_model_module_version": "1.5.0",
            "_model_name": "DescriptionStyleModel",
            "_view_count": null,
            "_view_module": "@jupyter-widgets/base",
            "_view_module_version": "1.2.0",
            "_view_name": "StyleView",
            "description_width": ""
          }
        },
        "2ac7b8e9b51548a69edb9892b806f56a": {
          "model_module": "@jupyter-widgets/base",
          "model_name": "LayoutModel",
          "model_module_version": "1.2.0",
          "state": {
            "_model_module": "@jupyter-widgets/base",
            "_model_module_version": "1.2.0",
            "_model_name": "LayoutModel",
            "_view_count": null,
            "_view_module": "@jupyter-widgets/base",
            "_view_module_version": "1.2.0",
            "_view_name": "LayoutView",
            "align_content": null,
            "align_items": null,
            "align_self": null,
            "border": null,
            "bottom": null,
            "display": null,
            "flex": null,
            "flex_flow": null,
            "grid_area": null,
            "grid_auto_columns": null,
            "grid_auto_flow": null,
            "grid_auto_rows": null,
            "grid_column": null,
            "grid_gap": null,
            "grid_row": null,
            "grid_template_areas": null,
            "grid_template_columns": null,
            "grid_template_rows": null,
            "height": null,
            "justify_content": null,
            "justify_items": null,
            "left": null,
            "margin": null,
            "max_height": null,
            "max_width": null,
            "min_height": null,
            "min_width": null,
            "object_fit": null,
            "object_position": null,
            "order": null,
            "overflow": null,
            "overflow_x": null,
            "overflow_y": null,
            "padding": null,
            "right": null,
            "top": null,
            "visibility": null,
            "width": null
          }
        },
        "b9ad0d0361c94d0393472166ed355863": {
          "model_module": "@jupyter-widgets/controls",
          "model_name": "ProgressStyleModel",
          "model_module_version": "1.5.0",
          "state": {
            "_model_module": "@jupyter-widgets/controls",
            "_model_module_version": "1.5.0",
            "_model_name": "ProgressStyleModel",
            "_view_count": null,
            "_view_module": "@jupyter-widgets/base",
            "_view_module_version": "1.2.0",
            "_view_name": "StyleView",
            "bar_color": null,
            "description_width": ""
          }
        },
        "e422306498f14a44b7e7d651c736421c": {
          "model_module": "@jupyter-widgets/controls",
          "model_name": "VBoxModel",
          "model_module_version": "1.5.0",
          "state": {
            "_dom_classes": [],
            "_model_module": "@jupyter-widgets/controls",
            "_model_module_version": "1.5.0",
            "_model_name": "VBoxModel",
            "_view_count": null,
            "_view_module": "@jupyter-widgets/controls",
            "_view_module_version": "1.5.0",
            "_view_name": "VBoxView",
            "box_style": "",
            "children": [
              "IPY_MODEL_1bfe45189b144fd0bed9aa2deb81ab45",
              "IPY_MODEL_afefa6816e6c4236842d5ba00b5a041f"
            ],
            "layout": "IPY_MODEL_36644f6056794aac84e2ecc6d7b27c4c"
          }
        },
        "1bfe45189b144fd0bed9aa2deb81ab45": {
          "model_module": "@jupyter-widgets/controls",
          "model_name": "LabelModel",
          "model_module_version": "1.5.0",
          "state": {
            "_dom_classes": [],
            "_model_module": "@jupyter-widgets/controls",
            "_model_module_version": "1.5.0",
            "_model_name": "LabelModel",
            "_view_count": null,
            "_view_module": "@jupyter-widgets/controls",
            "_view_module_version": "1.5.0",
            "_view_name": "LabelView",
            "description": "",
            "description_tooltip": null,
            "layout": "IPY_MODEL_b4e065f272ae4138848f0e810b98243f",
            "placeholder": "​",
            "style": "IPY_MODEL_1fe454c7e77f4011b6c7d42d418b8264",
            "value": "0.031 MB of 0.043 MB uploaded (0.000 MB deduped)\r"
          }
        },
        "afefa6816e6c4236842d5ba00b5a041f": {
          "model_module": "@jupyter-widgets/controls",
          "model_name": "FloatProgressModel",
          "model_module_version": "1.5.0",
          "state": {
            "_dom_classes": [],
            "_model_module": "@jupyter-widgets/controls",
            "_model_module_version": "1.5.0",
            "_model_name": "FloatProgressModel",
            "_view_count": null,
            "_view_module": "@jupyter-widgets/controls",
            "_view_module_version": "1.5.0",
            "_view_name": "ProgressView",
            "bar_style": "",
            "description": "",
            "description_tooltip": null,
            "layout": "IPY_MODEL_7e172af270674abaad8cf586b34e8084",
            "max": 1,
            "min": 0,
            "orientation": "horizontal",
            "style": "IPY_MODEL_0f0e7f8543dd440a837f83415709901a",
            "value": 0.7251421563162003
          }
        },
        "36644f6056794aac84e2ecc6d7b27c4c": {
          "model_module": "@jupyter-widgets/base",
          "model_name": "LayoutModel",
          "model_module_version": "1.2.0",
          "state": {
            "_model_module": "@jupyter-widgets/base",
            "_model_module_version": "1.2.0",
            "_model_name": "LayoutModel",
            "_view_count": null,
            "_view_module": "@jupyter-widgets/base",
            "_view_module_version": "1.2.0",
            "_view_name": "LayoutView",
            "align_content": null,
            "align_items": null,
            "align_self": null,
            "border": null,
            "bottom": null,
            "display": null,
            "flex": null,
            "flex_flow": null,
            "grid_area": null,
            "grid_auto_columns": null,
            "grid_auto_flow": null,
            "grid_auto_rows": null,
            "grid_column": null,
            "grid_gap": null,
            "grid_row": null,
            "grid_template_areas": null,
            "grid_template_columns": null,
            "grid_template_rows": null,
            "height": null,
            "justify_content": null,
            "justify_items": null,
            "left": null,
            "margin": null,
            "max_height": null,
            "max_width": null,
            "min_height": null,
            "min_width": null,
            "object_fit": null,
            "object_position": null,
            "order": null,
            "overflow": null,
            "overflow_x": null,
            "overflow_y": null,
            "padding": null,
            "right": null,
            "top": null,
            "visibility": null,
            "width": null
          }
        },
        "b4e065f272ae4138848f0e810b98243f": {
          "model_module": "@jupyter-widgets/base",
          "model_name": "LayoutModel",
          "model_module_version": "1.2.0",
          "state": {
            "_model_module": "@jupyter-widgets/base",
            "_model_module_version": "1.2.0",
            "_model_name": "LayoutModel",
            "_view_count": null,
            "_view_module": "@jupyter-widgets/base",
            "_view_module_version": "1.2.0",
            "_view_name": "LayoutView",
            "align_content": null,
            "align_items": null,
            "align_self": null,
            "border": null,
            "bottom": null,
            "display": null,
            "flex": null,
            "flex_flow": null,
            "grid_area": null,
            "grid_auto_columns": null,
            "grid_auto_flow": null,
            "grid_auto_rows": null,
            "grid_column": null,
            "grid_gap": null,
            "grid_row": null,
            "grid_template_areas": null,
            "grid_template_columns": null,
            "grid_template_rows": null,
            "height": null,
            "justify_content": null,
            "justify_items": null,
            "left": null,
            "margin": null,
            "max_height": null,
            "max_width": null,
            "min_height": null,
            "min_width": null,
            "object_fit": null,
            "object_position": null,
            "order": null,
            "overflow": null,
            "overflow_x": null,
            "overflow_y": null,
            "padding": null,
            "right": null,
            "top": null,
            "visibility": null,
            "width": null
          }
        },
        "1fe454c7e77f4011b6c7d42d418b8264": {
          "model_module": "@jupyter-widgets/controls",
          "model_name": "DescriptionStyleModel",
          "model_module_version": "1.5.0",
          "state": {
            "_model_module": "@jupyter-widgets/controls",
            "_model_module_version": "1.5.0",
            "_model_name": "DescriptionStyleModel",
            "_view_count": null,
            "_view_module": "@jupyter-widgets/base",
            "_view_module_version": "1.2.0",
            "_view_name": "StyleView",
            "description_width": ""
          }
        },
        "7e172af270674abaad8cf586b34e8084": {
          "model_module": "@jupyter-widgets/base",
          "model_name": "LayoutModel",
          "model_module_version": "1.2.0",
          "state": {
            "_model_module": "@jupyter-widgets/base",
            "_model_module_version": "1.2.0",
            "_model_name": "LayoutModel",
            "_view_count": null,
            "_view_module": "@jupyter-widgets/base",
            "_view_module_version": "1.2.0",
            "_view_name": "LayoutView",
            "align_content": null,
            "align_items": null,
            "align_self": null,
            "border": null,
            "bottom": null,
            "display": null,
            "flex": null,
            "flex_flow": null,
            "grid_area": null,
            "grid_auto_columns": null,
            "grid_auto_flow": null,
            "grid_auto_rows": null,
            "grid_column": null,
            "grid_gap": null,
            "grid_row": null,
            "grid_template_areas": null,
            "grid_template_columns": null,
            "grid_template_rows": null,
            "height": null,
            "justify_content": null,
            "justify_items": null,
            "left": null,
            "margin": null,
            "max_height": null,
            "max_width": null,
            "min_height": null,
            "min_width": null,
            "object_fit": null,
            "object_position": null,
            "order": null,
            "overflow": null,
            "overflow_x": null,
            "overflow_y": null,
            "padding": null,
            "right": null,
            "top": null,
            "visibility": null,
            "width": null
          }
        },
        "0f0e7f8543dd440a837f83415709901a": {
          "model_module": "@jupyter-widgets/controls",
          "model_name": "ProgressStyleModel",
          "model_module_version": "1.5.0",
          "state": {
            "_model_module": "@jupyter-widgets/controls",
            "_model_module_version": "1.5.0",
            "_model_name": "ProgressStyleModel",
            "_view_count": null,
            "_view_module": "@jupyter-widgets/base",
            "_view_module_version": "1.2.0",
            "_view_name": "StyleView",
            "bar_color": null,
            "description_width": ""
          }
        },
        "8e83de152abd45da96cecca88bffaab9": {
          "model_module": "@jupyter-widgets/controls",
          "model_name": "VBoxModel",
          "model_module_version": "1.5.0",
          "state": {
            "_dom_classes": [],
            "_model_module": "@jupyter-widgets/controls",
            "_model_module_version": "1.5.0",
            "_model_name": "VBoxModel",
            "_view_count": null,
            "_view_module": "@jupyter-widgets/controls",
            "_view_module_version": "1.5.0",
            "_view_name": "VBoxView",
            "box_style": "",
            "children": [
              "IPY_MODEL_6fa8eab19f974c75a323a515b435017c",
              "IPY_MODEL_4a2670d716204c9781cd9b43c50bc0d8"
            ],
            "layout": "IPY_MODEL_a716e714359f410d826a79c634de8c08"
          }
        },
        "6fa8eab19f974c75a323a515b435017c": {
          "model_module": "@jupyter-widgets/controls",
          "model_name": "LabelModel",
          "model_module_version": "1.5.0",
          "state": {
            "_dom_classes": [],
            "_model_module": "@jupyter-widgets/controls",
            "_model_module_version": "1.5.0",
            "_model_name": "LabelModel",
            "_view_count": null,
            "_view_module": "@jupyter-widgets/controls",
            "_view_module_version": "1.5.0",
            "_view_name": "LabelView",
            "description": "",
            "description_tooltip": null,
            "layout": "IPY_MODEL_58d50cc3316d464497d300fb19696569",
            "placeholder": "​",
            "style": "IPY_MODEL_35127ea172fa43489bb5cc831c50ffb6",
            "value": "0.001 MB of 0.010 MB uploaded (0.000 MB deduped)\r"
          }
        },
        "4a2670d716204c9781cd9b43c50bc0d8": {
          "model_module": "@jupyter-widgets/controls",
          "model_name": "FloatProgressModel",
          "model_module_version": "1.5.0",
          "state": {
            "_dom_classes": [],
            "_model_module": "@jupyter-widgets/controls",
            "_model_module_version": "1.5.0",
            "_model_name": "FloatProgressModel",
            "_view_count": null,
            "_view_module": "@jupyter-widgets/controls",
            "_view_module_version": "1.5.0",
            "_view_name": "ProgressView",
            "bar_style": "",
            "description": "",
            "description_tooltip": null,
            "layout": "IPY_MODEL_e6ff350ec9914df0847c70e82fab0d20",
            "max": 1,
            "min": 0,
            "orientation": "horizontal",
            "style": "IPY_MODEL_5fa5810f09334a8a9c15d057b3a53ec0",
            "value": 0.09548399211341659
          }
        },
        "a716e714359f410d826a79c634de8c08": {
          "model_module": "@jupyter-widgets/base",
          "model_name": "LayoutModel",
          "model_module_version": "1.2.0",
          "state": {
            "_model_module": "@jupyter-widgets/base",
            "_model_module_version": "1.2.0",
            "_model_name": "LayoutModel",
            "_view_count": null,
            "_view_module": "@jupyter-widgets/base",
            "_view_module_version": "1.2.0",
            "_view_name": "LayoutView",
            "align_content": null,
            "align_items": null,
            "align_self": null,
            "border": null,
            "bottom": null,
            "display": null,
            "flex": null,
            "flex_flow": null,
            "grid_area": null,
            "grid_auto_columns": null,
            "grid_auto_flow": null,
            "grid_auto_rows": null,
            "grid_column": null,
            "grid_gap": null,
            "grid_row": null,
            "grid_template_areas": null,
            "grid_template_columns": null,
            "grid_template_rows": null,
            "height": null,
            "justify_content": null,
            "justify_items": null,
            "left": null,
            "margin": null,
            "max_height": null,
            "max_width": null,
            "min_height": null,
            "min_width": null,
            "object_fit": null,
            "object_position": null,
            "order": null,
            "overflow": null,
            "overflow_x": null,
            "overflow_y": null,
            "padding": null,
            "right": null,
            "top": null,
            "visibility": null,
            "width": null
          }
        },
        "58d50cc3316d464497d300fb19696569": {
          "model_module": "@jupyter-widgets/base",
          "model_name": "LayoutModel",
          "model_module_version": "1.2.0",
          "state": {
            "_model_module": "@jupyter-widgets/base",
            "_model_module_version": "1.2.0",
            "_model_name": "LayoutModel",
            "_view_count": null,
            "_view_module": "@jupyter-widgets/base",
            "_view_module_version": "1.2.0",
            "_view_name": "LayoutView",
            "align_content": null,
            "align_items": null,
            "align_self": null,
            "border": null,
            "bottom": null,
            "display": null,
            "flex": null,
            "flex_flow": null,
            "grid_area": null,
            "grid_auto_columns": null,
            "grid_auto_flow": null,
            "grid_auto_rows": null,
            "grid_column": null,
            "grid_gap": null,
            "grid_row": null,
            "grid_template_areas": null,
            "grid_template_columns": null,
            "grid_template_rows": null,
            "height": null,
            "justify_content": null,
            "justify_items": null,
            "left": null,
            "margin": null,
            "max_height": null,
            "max_width": null,
            "min_height": null,
            "min_width": null,
            "object_fit": null,
            "object_position": null,
            "order": null,
            "overflow": null,
            "overflow_x": null,
            "overflow_y": null,
            "padding": null,
            "right": null,
            "top": null,
            "visibility": null,
            "width": null
          }
        },
        "35127ea172fa43489bb5cc831c50ffb6": {
          "model_module": "@jupyter-widgets/controls",
          "model_name": "DescriptionStyleModel",
          "model_module_version": "1.5.0",
          "state": {
            "_model_module": "@jupyter-widgets/controls",
            "_model_module_version": "1.5.0",
            "_model_name": "DescriptionStyleModel",
            "_view_count": null,
            "_view_module": "@jupyter-widgets/base",
            "_view_module_version": "1.2.0",
            "_view_name": "StyleView",
            "description_width": ""
          }
        },
        "e6ff350ec9914df0847c70e82fab0d20": {
          "model_module": "@jupyter-widgets/base",
          "model_name": "LayoutModel",
          "model_module_version": "1.2.0",
          "state": {
            "_model_module": "@jupyter-widgets/base",
            "_model_module_version": "1.2.0",
            "_model_name": "LayoutModel",
            "_view_count": null,
            "_view_module": "@jupyter-widgets/base",
            "_view_module_version": "1.2.0",
            "_view_name": "LayoutView",
            "align_content": null,
            "align_items": null,
            "align_self": null,
            "border": null,
            "bottom": null,
            "display": null,
            "flex": null,
            "flex_flow": null,
            "grid_area": null,
            "grid_auto_columns": null,
            "grid_auto_flow": null,
            "grid_auto_rows": null,
            "grid_column": null,
            "grid_gap": null,
            "grid_row": null,
            "grid_template_areas": null,
            "grid_template_columns": null,
            "grid_template_rows": null,
            "height": null,
            "justify_content": null,
            "justify_items": null,
            "left": null,
            "margin": null,
            "max_height": null,
            "max_width": null,
            "min_height": null,
            "min_width": null,
            "object_fit": null,
            "object_position": null,
            "order": null,
            "overflow": null,
            "overflow_x": null,
            "overflow_y": null,
            "padding": null,
            "right": null,
            "top": null,
            "visibility": null,
            "width": null
          }
        },
        "5fa5810f09334a8a9c15d057b3a53ec0": {
          "model_module": "@jupyter-widgets/controls",
          "model_name": "ProgressStyleModel",
          "model_module_version": "1.5.0",
          "state": {
            "_model_module": "@jupyter-widgets/controls",
            "_model_module_version": "1.5.0",
            "_model_name": "ProgressStyleModel",
            "_view_count": null,
            "_view_module": "@jupyter-widgets/base",
            "_view_module_version": "1.2.0",
            "_view_name": "StyleView",
            "bar_color": null,
            "description_width": ""
          }
        },
        "698c430c665d4a31beee5595063c634b": {
          "model_module": "@jupyter-widgets/controls",
          "model_name": "VBoxModel",
          "model_module_version": "1.5.0",
          "state": {
            "_dom_classes": [],
            "_model_module": "@jupyter-widgets/controls",
            "_model_module_version": "1.5.0",
            "_model_name": "VBoxModel",
            "_view_count": null,
            "_view_module": "@jupyter-widgets/controls",
            "_view_module_version": "1.5.0",
            "_view_name": "VBoxView",
            "box_style": "",
            "children": [
              "IPY_MODEL_04ce980dfb244f2c851ca02b028e0683",
              "IPY_MODEL_db5345ea41df4be4a17db27f1420f7d0"
            ],
            "layout": "IPY_MODEL_2690ec35efff4f509bcfcd170e9d2b03"
          }
        },
        "04ce980dfb244f2c851ca02b028e0683": {
          "model_module": "@jupyter-widgets/controls",
          "model_name": "LabelModel",
          "model_module_version": "1.5.0",
          "state": {
            "_dom_classes": [],
            "_model_module": "@jupyter-widgets/controls",
            "_model_module_version": "1.5.0",
            "_model_name": "LabelModel",
            "_view_count": null,
            "_view_module": "@jupyter-widgets/controls",
            "_view_module_version": "1.5.0",
            "_view_name": "LabelView",
            "description": "",
            "description_tooltip": null,
            "layout": "IPY_MODEL_da87426128fa4bd48a754170a2306a0b",
            "placeholder": "​",
            "style": "IPY_MODEL_82b24e2fc2874b3bb726f0869e360b47",
            "value": "0.009 MB of 0.010 MB uploaded (0.000 MB deduped)\r"
          }
        },
        "db5345ea41df4be4a17db27f1420f7d0": {
          "model_module": "@jupyter-widgets/controls",
          "model_name": "FloatProgressModel",
          "model_module_version": "1.5.0",
          "state": {
            "_dom_classes": [],
            "_model_module": "@jupyter-widgets/controls",
            "_model_module_version": "1.5.0",
            "_model_name": "FloatProgressModel",
            "_view_count": null,
            "_view_module": "@jupyter-widgets/controls",
            "_view_module_version": "1.5.0",
            "_view_name": "ProgressView",
            "bar_style": "",
            "description": "",
            "description_tooltip": null,
            "layout": "IPY_MODEL_1671f5317f1d48c292f16c750378487c",
            "max": 1,
            "min": 0,
            "orientation": "horizontal",
            "style": "IPY_MODEL_22f507664f584d409a74e7d439eaacff",
            "value": 0.9306902721536868
          }
        },
        "2690ec35efff4f509bcfcd170e9d2b03": {
          "model_module": "@jupyter-widgets/base",
          "model_name": "LayoutModel",
          "model_module_version": "1.2.0",
          "state": {
            "_model_module": "@jupyter-widgets/base",
            "_model_module_version": "1.2.0",
            "_model_name": "LayoutModel",
            "_view_count": null,
            "_view_module": "@jupyter-widgets/base",
            "_view_module_version": "1.2.0",
            "_view_name": "LayoutView",
            "align_content": null,
            "align_items": null,
            "align_self": null,
            "border": null,
            "bottom": null,
            "display": null,
            "flex": null,
            "flex_flow": null,
            "grid_area": null,
            "grid_auto_columns": null,
            "grid_auto_flow": null,
            "grid_auto_rows": null,
            "grid_column": null,
            "grid_gap": null,
            "grid_row": null,
            "grid_template_areas": null,
            "grid_template_columns": null,
            "grid_template_rows": null,
            "height": null,
            "justify_content": null,
            "justify_items": null,
            "left": null,
            "margin": null,
            "max_height": null,
            "max_width": null,
            "min_height": null,
            "min_width": null,
            "object_fit": null,
            "object_position": null,
            "order": null,
            "overflow": null,
            "overflow_x": null,
            "overflow_y": null,
            "padding": null,
            "right": null,
            "top": null,
            "visibility": null,
            "width": null
          }
        },
        "da87426128fa4bd48a754170a2306a0b": {
          "model_module": "@jupyter-widgets/base",
          "model_name": "LayoutModel",
          "model_module_version": "1.2.0",
          "state": {
            "_model_module": "@jupyter-widgets/base",
            "_model_module_version": "1.2.0",
            "_model_name": "LayoutModel",
            "_view_count": null,
            "_view_module": "@jupyter-widgets/base",
            "_view_module_version": "1.2.0",
            "_view_name": "LayoutView",
            "align_content": null,
            "align_items": null,
            "align_self": null,
            "border": null,
            "bottom": null,
            "display": null,
            "flex": null,
            "flex_flow": null,
            "grid_area": null,
            "grid_auto_columns": null,
            "grid_auto_flow": null,
            "grid_auto_rows": null,
            "grid_column": null,
            "grid_gap": null,
            "grid_row": null,
            "grid_template_areas": null,
            "grid_template_columns": null,
            "grid_template_rows": null,
            "height": null,
            "justify_content": null,
            "justify_items": null,
            "left": null,
            "margin": null,
            "max_height": null,
            "max_width": null,
            "min_height": null,
            "min_width": null,
            "object_fit": null,
            "object_position": null,
            "order": null,
            "overflow": null,
            "overflow_x": null,
            "overflow_y": null,
            "padding": null,
            "right": null,
            "top": null,
            "visibility": null,
            "width": null
          }
        },
        "82b24e2fc2874b3bb726f0869e360b47": {
          "model_module": "@jupyter-widgets/controls",
          "model_name": "DescriptionStyleModel",
          "model_module_version": "1.5.0",
          "state": {
            "_model_module": "@jupyter-widgets/controls",
            "_model_module_version": "1.5.0",
            "_model_name": "DescriptionStyleModel",
            "_view_count": null,
            "_view_module": "@jupyter-widgets/base",
            "_view_module_version": "1.2.0",
            "_view_name": "StyleView",
            "description_width": ""
          }
        },
        "1671f5317f1d48c292f16c750378487c": {
          "model_module": "@jupyter-widgets/base",
          "model_name": "LayoutModel",
          "model_module_version": "1.2.0",
          "state": {
            "_model_module": "@jupyter-widgets/base",
            "_model_module_version": "1.2.0",
            "_model_name": "LayoutModel",
            "_view_count": null,
            "_view_module": "@jupyter-widgets/base",
            "_view_module_version": "1.2.0",
            "_view_name": "LayoutView",
            "align_content": null,
            "align_items": null,
            "align_self": null,
            "border": null,
            "bottom": null,
            "display": null,
            "flex": null,
            "flex_flow": null,
            "grid_area": null,
            "grid_auto_columns": null,
            "grid_auto_flow": null,
            "grid_auto_rows": null,
            "grid_column": null,
            "grid_gap": null,
            "grid_row": null,
            "grid_template_areas": null,
            "grid_template_columns": null,
            "grid_template_rows": null,
            "height": null,
            "justify_content": null,
            "justify_items": null,
            "left": null,
            "margin": null,
            "max_height": null,
            "max_width": null,
            "min_height": null,
            "min_width": null,
            "object_fit": null,
            "object_position": null,
            "order": null,
            "overflow": null,
            "overflow_x": null,
            "overflow_y": null,
            "padding": null,
            "right": null,
            "top": null,
            "visibility": null,
            "width": null
          }
        },
        "22f507664f584d409a74e7d439eaacff": {
          "model_module": "@jupyter-widgets/controls",
          "model_name": "ProgressStyleModel",
          "model_module_version": "1.5.0",
          "state": {
            "_model_module": "@jupyter-widgets/controls",
            "_model_module_version": "1.5.0",
            "_model_name": "ProgressStyleModel",
            "_view_count": null,
            "_view_module": "@jupyter-widgets/base",
            "_view_module_version": "1.2.0",
            "_view_name": "StyleView",
            "bar_color": null,
            "description_width": ""
          }
        },
        "01d440627fcf4af5ad6e85a55368f302": {
          "model_module": "@jupyter-widgets/controls",
          "model_name": "VBoxModel",
          "model_module_version": "1.5.0",
          "state": {
            "_dom_classes": [],
            "_model_module": "@jupyter-widgets/controls",
            "_model_module_version": "1.5.0",
            "_model_name": "VBoxModel",
            "_view_count": null,
            "_view_module": "@jupyter-widgets/controls",
            "_view_module_version": "1.5.0",
            "_view_name": "VBoxView",
            "box_style": "",
            "children": [
              "IPY_MODEL_35c9cbf1407449bab736b73dedcfb034",
              "IPY_MODEL_7506360816fa4bce8bf5a2150343a921"
            ],
            "layout": "IPY_MODEL_247ee18cc22d46b7a030c1b4a3ff211a"
          }
        },
        "35c9cbf1407449bab736b73dedcfb034": {
          "model_module": "@jupyter-widgets/controls",
          "model_name": "LabelModel",
          "model_module_version": "1.5.0",
          "state": {
            "_dom_classes": [],
            "_model_module": "@jupyter-widgets/controls",
            "_model_module_version": "1.5.0",
            "_model_name": "LabelModel",
            "_view_count": null,
            "_view_module": "@jupyter-widgets/controls",
            "_view_module_version": "1.5.0",
            "_view_name": "LabelView",
            "description": "",
            "description_tooltip": null,
            "layout": "IPY_MODEL_97e2a3face8348b09450db6b39f1422f",
            "placeholder": "​",
            "style": "IPY_MODEL_7cb241fcdfb24227b94395c9a26be5f3",
            "value": "0.001 MB of 0.009 MB uploaded (0.000 MB deduped)\r"
          }
        },
        "7506360816fa4bce8bf5a2150343a921": {
          "model_module": "@jupyter-widgets/controls",
          "model_name": "FloatProgressModel",
          "model_module_version": "1.5.0",
          "state": {
            "_dom_classes": [],
            "_model_module": "@jupyter-widgets/controls",
            "_model_module_version": "1.5.0",
            "_model_name": "FloatProgressModel",
            "_view_count": null,
            "_view_module": "@jupyter-widgets/controls",
            "_view_module_version": "1.5.0",
            "_view_name": "ProgressView",
            "bar_style": "",
            "description": "",
            "description_tooltip": null,
            "layout": "IPY_MODEL_fe3c0f13da4b429f85a93bf8fa52ab98",
            "max": 1,
            "min": 0,
            "orientation": "horizontal",
            "style": "IPY_MODEL_96a9870f9c7949029733dfac7c98081e",
            "value": 0.10350788002033554
          }
        },
        "247ee18cc22d46b7a030c1b4a3ff211a": {
          "model_module": "@jupyter-widgets/base",
          "model_name": "LayoutModel",
          "model_module_version": "1.2.0",
          "state": {
            "_model_module": "@jupyter-widgets/base",
            "_model_module_version": "1.2.0",
            "_model_name": "LayoutModel",
            "_view_count": null,
            "_view_module": "@jupyter-widgets/base",
            "_view_module_version": "1.2.0",
            "_view_name": "LayoutView",
            "align_content": null,
            "align_items": null,
            "align_self": null,
            "border": null,
            "bottom": null,
            "display": null,
            "flex": null,
            "flex_flow": null,
            "grid_area": null,
            "grid_auto_columns": null,
            "grid_auto_flow": null,
            "grid_auto_rows": null,
            "grid_column": null,
            "grid_gap": null,
            "grid_row": null,
            "grid_template_areas": null,
            "grid_template_columns": null,
            "grid_template_rows": null,
            "height": null,
            "justify_content": null,
            "justify_items": null,
            "left": null,
            "margin": null,
            "max_height": null,
            "max_width": null,
            "min_height": null,
            "min_width": null,
            "object_fit": null,
            "object_position": null,
            "order": null,
            "overflow": null,
            "overflow_x": null,
            "overflow_y": null,
            "padding": null,
            "right": null,
            "top": null,
            "visibility": null,
            "width": null
          }
        },
        "97e2a3face8348b09450db6b39f1422f": {
          "model_module": "@jupyter-widgets/base",
          "model_name": "LayoutModel",
          "model_module_version": "1.2.0",
          "state": {
            "_model_module": "@jupyter-widgets/base",
            "_model_module_version": "1.2.0",
            "_model_name": "LayoutModel",
            "_view_count": null,
            "_view_module": "@jupyter-widgets/base",
            "_view_module_version": "1.2.0",
            "_view_name": "LayoutView",
            "align_content": null,
            "align_items": null,
            "align_self": null,
            "border": null,
            "bottom": null,
            "display": null,
            "flex": null,
            "flex_flow": null,
            "grid_area": null,
            "grid_auto_columns": null,
            "grid_auto_flow": null,
            "grid_auto_rows": null,
            "grid_column": null,
            "grid_gap": null,
            "grid_row": null,
            "grid_template_areas": null,
            "grid_template_columns": null,
            "grid_template_rows": null,
            "height": null,
            "justify_content": null,
            "justify_items": null,
            "left": null,
            "margin": null,
            "max_height": null,
            "max_width": null,
            "min_height": null,
            "min_width": null,
            "object_fit": null,
            "object_position": null,
            "order": null,
            "overflow": null,
            "overflow_x": null,
            "overflow_y": null,
            "padding": null,
            "right": null,
            "top": null,
            "visibility": null,
            "width": null
          }
        },
        "7cb241fcdfb24227b94395c9a26be5f3": {
          "model_module": "@jupyter-widgets/controls",
          "model_name": "DescriptionStyleModel",
          "model_module_version": "1.5.0",
          "state": {
            "_model_module": "@jupyter-widgets/controls",
            "_model_module_version": "1.5.0",
            "_model_name": "DescriptionStyleModel",
            "_view_count": null,
            "_view_module": "@jupyter-widgets/base",
            "_view_module_version": "1.2.0",
            "_view_name": "StyleView",
            "description_width": ""
          }
        },
        "fe3c0f13da4b429f85a93bf8fa52ab98": {
          "model_module": "@jupyter-widgets/base",
          "model_name": "LayoutModel",
          "model_module_version": "1.2.0",
          "state": {
            "_model_module": "@jupyter-widgets/base",
            "_model_module_version": "1.2.0",
            "_model_name": "LayoutModel",
            "_view_count": null,
            "_view_module": "@jupyter-widgets/base",
            "_view_module_version": "1.2.0",
            "_view_name": "LayoutView",
            "align_content": null,
            "align_items": null,
            "align_self": null,
            "border": null,
            "bottom": null,
            "display": null,
            "flex": null,
            "flex_flow": null,
            "grid_area": null,
            "grid_auto_columns": null,
            "grid_auto_flow": null,
            "grid_auto_rows": null,
            "grid_column": null,
            "grid_gap": null,
            "grid_row": null,
            "grid_template_areas": null,
            "grid_template_columns": null,
            "grid_template_rows": null,
            "height": null,
            "justify_content": null,
            "justify_items": null,
            "left": null,
            "margin": null,
            "max_height": null,
            "max_width": null,
            "min_height": null,
            "min_width": null,
            "object_fit": null,
            "object_position": null,
            "order": null,
            "overflow": null,
            "overflow_x": null,
            "overflow_y": null,
            "padding": null,
            "right": null,
            "top": null,
            "visibility": null,
            "width": null
          }
        },
        "96a9870f9c7949029733dfac7c98081e": {
          "model_module": "@jupyter-widgets/controls",
          "model_name": "ProgressStyleModel",
          "model_module_version": "1.5.0",
          "state": {
            "_model_module": "@jupyter-widgets/controls",
            "_model_module_version": "1.5.0",
            "_model_name": "ProgressStyleModel",
            "_view_count": null,
            "_view_module": "@jupyter-widgets/base",
            "_view_module_version": "1.2.0",
            "_view_name": "StyleView",
            "bar_color": null,
            "description_width": ""
          }
        }
      }
    }
  },
  "nbformat": 4,
  "nbformat_minor": 0
}